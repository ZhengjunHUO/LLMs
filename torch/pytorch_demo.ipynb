{
 "cells": [
  {
   "cell_type": "code",
   "execution_count": 1,
   "id": "f21d29ee-0f8b-40e1-8c97-1c5cc2a2028e",
   "metadata": {},
   "outputs": [
    {
     "name": "stdout",
     "output_type": "stream",
     "text": [
      "Using cpu device\n"
     ]
    }
   ],
   "source": [
    "import torch\n",
    "\n",
    "device = torch.accelerator.current_accelerator().type if torch.accelerator.is_available() else \"cpu\"\n",
    "print(f\"Using {device} device\")"
   ]
  },
  {
   "cell_type": "code",
   "execution_count": 2,
   "id": "b382c46a-e136-439a-b4c3-3ca297fd2378",
   "metadata": {},
   "outputs": [],
   "source": [
    "from torchvision import datasets\n",
    "from torchvision.transforms import ToTensor\n",
    "\n",
    "data_train = datasets.FashionMNIST(root=\"data\", train=True, download=True, transform=ToTensor())\n",
    "data_test = datasets.FashionMNIST(root=\"data\", train=False, download=True, transform=ToTensor())"
   ]
  },
  {
   "cell_type": "code",
   "execution_count": 3,
   "id": "e052008e-ad63-400f-ae52-69479a52469a",
   "metadata": {},
   "outputs": [],
   "source": [
    "from torch.utils.data import DataLoader\n",
    "\n",
    "batch_size = 64\n",
    "# wraps an iterable over dataset, supports automatic batching, sampling, shuffling and multiprocess data loading\n",
    "dl_train = DataLoader(data_train, batch_size=batch_size)\n",
    "dl_test = DataLoader(data_test, batch_size=batch_size)"
   ]
  },
  {
   "cell_type": "code",
   "execution_count": 4,
   "id": "4509d1d7-4f26-429e-bab0-bd0855676c9d",
   "metadata": {},
   "outputs": [
    {
     "name": "stdout",
     "output_type": "stream",
     "text": [
      "Shape of x [batch_size, channel, height, weight]: torch.Size([64, 1, 28, 28])\n",
      "Shape of y: torch.Size([64]) torch.int64\n"
     ]
    }
   ],
   "source": [
    "for x, y in dl_test:\n",
    "    print(f\"Shape of x [batch_size, channel, height, weight]: {x.shape}\")\n",
    "    print(f\"Shape of y: {y.shape} {y.dtype}\")\n",
    "    break"
   ]
  },
  {
   "cell_type": "code",
   "execution_count": 5,
   "id": "97aa4072-2f76-470a-a05f-2c9f570d33a6",
   "metadata": {},
   "outputs": [
    {
     "data": {
      "text/plain": [
       "(784, 10)"
      ]
     },
     "execution_count": 5,
     "metadata": {},
     "output_type": "execute_result"
    }
   ],
   "source": [
    "_, h, w = data_test.data.shape\n",
    "in_features = h*w\n",
    "out_features = 10\n",
    "in_features, out_features"
   ]
  },
  {
   "cell_type": "code",
   "execution_count": 6,
   "id": "3c684f3d-5cf7-47a5-8282-b86456ec7741",
   "metadata": {},
   "outputs": [],
   "source": [
    "from torch import nn\n",
    "\n",
    "class NNModel(nn.Module):\n",
    "    def __init__(self):\n",
    "        super().__init__()\n",
    "        self.flatten = nn.Flatten()\n",
    "        self.linear_relu_stack = nn.Sequential(\n",
    "            nn.Linear(in_features, 512),\n",
    "            nn.ReLU(),\n",
    "            nn.Linear(512, 512),\n",
    "            nn.ReLU(),\n",
    "            nn.Linear(512, out_features)\n",
    "        )\n",
    "\n",
    "    def forward(self, x):\n",
    "        x = self.flatten(x)\n",
    "        out = self.linear_relu_stack(x)\n",
    "        return out"
   ]
  },
  {
   "cell_type": "code",
   "execution_count": 7,
   "id": "fdba4495-5c24-4e2e-9366-ae39aad5d2d6",
   "metadata": {},
   "outputs": [
    {
     "name": "stdout",
     "output_type": "stream",
     "text": [
      "NNModel(\n",
      "  (flatten): Flatten(start_dim=1, end_dim=-1)\n",
      "  (linear_relu_stack): Sequential(\n",
      "    (0): Linear(in_features=784, out_features=512, bias=True)\n",
      "    (1): ReLU()\n",
      "    (2): Linear(in_features=512, out_features=512, bias=True)\n",
      "    (3): ReLU()\n",
      "    (4): Linear(in_features=512, out_features=10, bias=True)\n",
      "  )\n",
      ")\n"
     ]
    }
   ],
   "source": [
    "model = NNModel().to(device)\n",
    "print(model)"
   ]
  },
  {
   "cell_type": "code",
   "execution_count": 8,
   "id": "f2a78b46-0fdf-4fab-ab4b-5ddb4a763ea9",
   "metadata": {},
   "outputs": [],
   "source": [
    "loss_fn = nn.CrossEntropyLoss()\n",
    "optimizer = torch.optim.SGD(model.parameters(), lr=1e-3)"
   ]
  },
  {
   "cell_type": "code",
   "execution_count": 9,
   "id": "56ccd80e-2cf5-405c-ab66-9434e353c09d",
   "metadata": {},
   "outputs": [],
   "source": [
    "def train(dl, model, loss_fn, optimizer):\n",
    "    size = len(dl.dataset)\n",
    "    model.train()\n",
    "\n",
    "    for i, (x, y) in enumerate(dl):\n",
    "        x, y = x.to(device), y.to(device)\n",
    "        \n",
    "        logits = model(x)\n",
    "        loss = loss_fn(logits, y)\n",
    "\n",
    "        loss.backward()\n",
    "        optimizer.step()\n",
    "        optimizer.zero_grad()\n",
    "\n",
    "        if i % 100 == 0:\n",
    "            l, c = loss.item(), len(x)*(i + 1)\n",
    "            print(f\"loss: {l:>7f} [{c:>5d}/{size:>5d}]\")"
   ]
  },
  {
   "cell_type": "code",
   "execution_count": 10,
   "id": "34b2e00d-f733-42a1-8005-a0a051efcc7c",
   "metadata": {},
   "outputs": [],
   "source": [
    "def test(dl, model, loss_fn):\n",
    "    size = len(dl.dataset)\n",
    "    model.eval()\n",
    "\n",
    "    loss, hits = 0, 0\n",
    "    with torch.no_grad():\n",
    "        for x, y in dl:\n",
    "            x, y = x.to(device), y.to(device)\n",
    "            logits = model(x)\n",
    "            loss += loss_fn(logits, y).item()\n",
    "            hits += (logits.argmax(1) == y).type(torch.float).sum().item()\n",
    "    avg_loss = loss / len(dl)\n",
    "    accu = hits / size\n",
    "    print(f\"Test: \\n Accuracy: {(100*accu):>0.1f}%, Average loss: {avg_loss:>8f} \\n\")"
   ]
  },
  {
   "cell_type": "code",
   "execution_count": 11,
   "id": "f62da263-3412-4c86-a570-ff8c62308e3f",
   "metadata": {},
   "outputs": [
    {
     "name": "stdout",
     "output_type": "stream",
     "text": [
      "------------- Epoch 1 -------------\n",
      "\n",
      "loss: 2.294734 [   64/60000]\n",
      "loss: 2.277577 [ 6464/60000]\n",
      "loss: 2.263461 [12864/60000]\n",
      "loss: 2.265402 [19264/60000]\n",
      "loss: 2.248147 [25664/60000]\n",
      "loss: 2.217117 [32064/60000]\n",
      "loss: 2.221019 [38464/60000]\n",
      "loss: 2.183275 [44864/60000]\n",
      "loss: 2.185709 [51264/60000]\n",
      "loss: 2.157821 [57664/60000]\n",
      "Test: \n",
      " Accuracy: 50.6%, Average loss: 2.146639 \n",
      "\n",
      "------------- Epoch 2 -------------\n",
      "\n",
      "loss: 2.158524 [   64/60000]\n",
      "loss: 2.142937 [ 6464/60000]\n",
      "loss: 2.084475 [12864/60000]\n",
      "loss: 2.112900 [19264/60000]\n",
      "loss: 2.060873 [25664/60000]\n",
      "loss: 1.999957 [32064/60000]\n",
      "loss: 2.026592 [38464/60000]\n",
      "loss: 1.938414 [44864/60000]\n",
      "loss: 1.953390 [51264/60000]\n",
      "loss: 1.886112 [57664/60000]\n",
      "Test: \n",
      " Accuracy: 54.8%, Average loss: 1.873158 \n",
      "\n",
      "------------- Epoch 3 -------------\n",
      "\n",
      "loss: 1.913509 [   64/60000]\n",
      "loss: 1.873739 [ 6464/60000]\n",
      "loss: 1.752289 [12864/60000]\n",
      "loss: 1.808625 [19264/60000]\n",
      "loss: 1.699223 [25664/60000]\n",
      "loss: 1.648998 [32064/60000]\n",
      "loss: 1.675746 [38464/60000]\n",
      "loss: 1.561347 [44864/60000]\n",
      "loss: 1.594102 [51264/60000]\n",
      "loss: 1.494021 [57664/60000]\n",
      "Test: \n",
      " Accuracy: 59.1%, Average loss: 1.501602 \n",
      "\n",
      "------------- Epoch 4 -------------\n",
      "\n",
      "loss: 1.576743 [   64/60000]\n",
      "loss: 1.529646 [ 6464/60000]\n",
      "loss: 1.376183 [12864/60000]\n",
      "loss: 1.466525 [19264/60000]\n",
      "loss: 1.344222 [25664/60000]\n",
      "loss: 1.335683 [32064/60000]\n",
      "loss: 1.352104 [38464/60000]\n",
      "loss: 1.264367 [44864/60000]\n",
      "loss: 1.303219 [51264/60000]\n",
      "loss: 1.202980 [57664/60000]\n",
      "Test: \n",
      " Accuracy: 63.1%, Average loss: 1.232705 \n",
      "\n",
      "------------- Epoch 5 -------------\n",
      "\n",
      "loss: 1.316071 [   64/60000]\n",
      "loss: 1.286814 [ 6464/60000]\n",
      "loss: 1.122189 [12864/60000]\n",
      "loss: 1.244679 [19264/60000]\n",
      "loss: 1.115938 [25664/60000]\n",
      "loss: 1.137218 [32064/60000]\n",
      "loss: 1.157649 [38464/60000]\n",
      "loss: 1.087903 [44864/60000]\n",
      "loss: 1.128906 [51264/60000]\n",
      "loss: 1.041834 [57664/60000]\n",
      "Test: \n",
      " Accuracy: 64.8%, Average loss: 1.071077 \n",
      "\n",
      "Complete\n"
     ]
    }
   ],
   "source": [
    "epochs = 5\n",
    "for i in range(epochs):\n",
    "    print(f\"------------- Epoch {i+1} -------------\\n\")\n",
    "    train(dl_train, model, loss_fn, optimizer)\n",
    "    test(dl_test, model, loss_fn)\n",
    "print(\"Complete\")"
   ]
  },
  {
   "cell_type": "code",
   "execution_count": 12,
   "id": "63f7dbcb-34e3-4baf-8cc8-27004d6106e0",
   "metadata": {},
   "outputs": [
    {
     "name": "stdout",
     "output_type": "stream",
     "text": [
      "Model saved.\n"
     ]
    }
   ],
   "source": [
    "torch.save(model.state_dict(), \"model.pth\")\n",
    "print(\"Model saved.\")"
   ]
  },
  {
   "cell_type": "code",
   "execution_count": null,
   "id": "c2a9f6cd-1082-45ad-8b99-0fb882aeddfd",
   "metadata": {},
   "outputs": [],
   "source": []
  }
 ],
 "metadata": {
  "kernelspec": {
   "display_name": "Python 3 (ipykernel)",
   "language": "python",
   "name": "python3"
  },
  "language_info": {
   "codemirror_mode": {
    "name": "ipython",
    "version": 3
   },
   "file_extension": ".py",
   "mimetype": "text/x-python",
   "name": "python",
   "nbconvert_exporter": "python",
   "pygments_lexer": "ipython3",
   "version": "3.11.11"
  }
 },
 "nbformat": 4,
 "nbformat_minor": 5
}
