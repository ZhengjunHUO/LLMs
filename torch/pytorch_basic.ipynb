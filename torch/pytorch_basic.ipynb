{
 "cells": [
  {
   "cell_type": "code",
   "execution_count": 1,
   "id": "795d16f9-3145-44c2-9a63-f30b8d8fb661",
   "metadata": {},
   "outputs": [],
   "source": [
    "import torch\n",
    "import numpy as np"
   ]
  },
  {
   "cell_type": "code",
   "execution_count": 2,
   "id": "42c6b306-e8a8-4e2e-9ada-0a4259d7ce8b",
   "metadata": {},
   "outputs": [
    {
     "data": {
      "text/plain": [
       "tensor([[1, 2],\n",
       "        [3, 4]])"
      ]
     },
     "execution_count": 2,
     "metadata": {},
     "output_type": "execute_result"
    }
   ],
   "source": [
    "data = [[1, 2],[3, 4]]\n",
    "tensor_data = torch.tensor(data)\n",
    "tensor_data"
   ]
  },
  {
   "cell_type": "code",
   "execution_count": 3,
   "id": "aa676b23-9864-42ab-b72f-e524d8a6d7c8",
   "metadata": {},
   "outputs": [
    {
     "data": {
      "text/plain": [
       "tensor([[1, 2],\n",
       "        [3, 4]])"
      ]
     },
     "execution_count": 3,
     "metadata": {},
     "output_type": "execute_result"
    }
   ],
   "source": [
    "array = np.array(data)\n",
    "tensor_from_np = torch.from_numpy(array)\n",
    "tensor_from_np"
   ]
  },
  {
   "cell_type": "code",
   "execution_count": 4,
   "id": "9e56a252-813f-47dc-a6e6-518965c5fd5e",
   "metadata": {},
   "outputs": [
    {
     "data": {
      "text/plain": [
       "(tensor([[1, 1],\n",
       "         [1, 1]]),\n",
       " tensor([[0.0967, 0.0129],\n",
       "         [0.7864, 0.5196]]))"
      ]
     },
     "execution_count": 4,
     "metadata": {},
     "output_type": "execute_result"
    }
   ],
   "source": [
    "tensor_one = torch.ones_like(tensor_data)\n",
    "tensor_rd = torch.rand_like(tensor_data, dtype=torch.float)\n",
    "tensor_one, tensor_rd"
   ]
  },
  {
   "cell_type": "code",
   "execution_count": 6,
   "id": "4154567a-90dd-4c5a-a197-80916aba49ba",
   "metadata": {},
   "outputs": [
    {
     "data": {
      "text/plain": [
       "(tensor([[0., 0., 0., 0.],\n",
       "         [0., 0., 0., 0.],\n",
       "         [0., 0., 0., 0.]]),\n",
       " tensor([[1., 1., 1., 1.],\n",
       "         [1., 1., 1., 1.],\n",
       "         [1., 1., 1., 1.]]),\n",
       " tensor([[0.5047, 0.9350, 0.1998, 0.7971],\n",
       "         [0.4294, 0.8615, 0.7691, 0.3809],\n",
       "         [0.4488, 0.2268, 0.9650, 0.0052]]))"
      ]
     },
     "execution_count": 6,
     "metadata": {},
     "output_type": "execute_result"
    }
   ],
   "source": [
    "shape = (3,4,)\n",
    "torch.zeros(shape), torch.ones(shape), torch.rand(shape)"
   ]
  },
  {
   "cell_type": "code",
   "execution_count": 9,
   "id": "c2fa3703-61bb-4332-ba28-167c79a423f6",
   "metadata": {},
   "outputs": [
    {
     "data": {
      "text/plain": [
       "tensor([[1, 1],\n",
       "        [1, 1],\n",
       "        [1, 1],\n",
       "        [1, 1],\n",
       "        [1, 1],\n",
       "        [1, 1]])"
      ]
     },
     "execution_count": 9,
     "metadata": {},
     "output_type": "execute_result"
    }
   ],
   "source": [
    "torch.cat([tensor_one, tensor_one, tensor_one])"
   ]
  },
  {
   "cell_type": "code",
   "execution_count": 10,
   "id": "9509f529-716f-48dd-befc-cb05c318f9a9",
   "metadata": {},
   "outputs": [
    {
     "data": {
      "text/plain": [
       "tensor([[1, 1, 1, 1, 1, 1],\n",
       "        [1, 1, 1, 1, 1, 1]])"
      ]
     },
     "execution_count": 10,
     "metadata": {},
     "output_type": "execute_result"
    }
   ],
   "source": [
    "torch.cat([tensor_one, tensor_one, tensor_one], dim=1)"
   ]
  },
  {
   "cell_type": "code",
   "execution_count": 17,
   "id": "dcf690aa-bc6a-4bf3-b0d4-383313cc60ad",
   "metadata": {},
   "outputs": [
    {
     "data": {
      "text/plain": [
       "(tensor([[4., 4., 4.],\n",
       "         [4., 4., 4.],\n",
       "         [4., 4., 4.]]),\n",
       " tensor([[1., 1., 1., 1.],\n",
       "         [1., 1., 1., 1.],\n",
       "         [1., 1., 1., 1.]]))"
      ]
     },
     "execution_count": 17,
     "metadata": {},
     "output_type": "execute_result"
    }
   ],
   "source": [
    "torch.ones(shape) @ torch.ones(shape).T, torch.ones(shape) * torch.ones(shape)"
   ]
  },
  {
   "cell_type": "code",
   "execution_count": 21,
   "id": "bfe21de4-1267-4c00-8bc3-96e4db5f6c8b",
   "metadata": {},
   "outputs": [
    {
     "data": {
      "text/plain": [
       "(tensor(10), 10)"
      ]
     },
     "execution_count": 21,
     "metadata": {},
     "output_type": "execute_result"
    }
   ],
   "source": [
    "tensor_data.sum(), tensor_data.sum().item()"
   ]
  },
  {
   "cell_type": "code",
   "execution_count": null,
   "id": "15cd96a0-62ca-407d-a70e-60a4da6f691e",
   "metadata": {},
   "outputs": [],
   "source": []
  },
  {
   "cell_type": "code",
   "execution_count": 20,
   "id": "455f5aec-cd72-4cfb-a124-2b5d4d2895c4",
   "metadata": {},
   "outputs": [],
   "source": [
    "import torch.nn as nn\n",
    "\n",
    "# (vocab_size, channels)\n",
    "embed = nn.Embedding(10, 10)"
   ]
  },
  {
   "cell_type": "code",
   "execution_count": 21,
   "id": "445167f4-b7ba-43fe-9940-89b67ceb580c",
   "metadata": {},
   "outputs": [
    {
     "data": {
      "text/plain": [
       "tensor([[4, 3, 8, 7, 3, 0, 6, 4],\n",
       "        [4, 9, 2, 2, 8, 2, 6, 5],\n",
       "        [2, 2, 8, 8, 8, 3, 3, 6],\n",
       "        [2, 9, 2, 0, 2, 3, 4, 3]])"
      ]
     },
     "execution_count": 21,
     "metadata": {},
     "output_type": "execute_result"
    }
   ],
   "source": [
    "import torch\n",
    "idx = torch.randint(0, 10, (4, 8))\n",
    "# (batch_size, time_series)\n",
    "idx"
   ]
  },
  {
   "cell_type": "code",
   "execution_count": 22,
   "id": "a5d5cc72-162c-4011-8cee-1727521e5669",
   "metadata": {},
   "outputs": [
    {
     "name": "stdout",
     "output_type": "stream",
     "text": [
      "torch.Size([4, 8, 10])\n"
     ]
    },
    {
     "data": {
      "text/plain": [
       "tensor([[-0.8693, -0.4141, -0.3540,  0.4200,  0.4499,  1.3841,  0.4793,  1.2094,\n",
       "         -0.2168,  0.9221],\n",
       "        [ 1.2956,  1.3801, -0.1099, -0.1425, -0.3306,  0.0220,  1.1231,  1.9980,\n",
       "         -0.3036,  1.0518],\n",
       "        [ 0.8234, -0.6167, -1.7465, -0.8713,  1.3887,  0.4619,  0.5397, -2.0471,\n",
       "         -1.8950, -0.0414],\n",
       "        [-1.7325,  0.8044,  0.4042,  1.9385,  0.4402, -0.3148, -1.3143, -2.0211,\n",
       "         -1.1408, -1.0346]], grad_fn=<SliceBackward0>)"
      ]
     },
     "execution_count": 22,
     "metadata": {},
     "output_type": "execute_result"
    }
   ],
   "source": [
    "# (batch_size, time_series, channels)\n",
    "logits = embed(idx)\n",
    "print(logits.shape)\n",
    "# (batch_size, channels)\n",
    "logits[:,-1,:]"
   ]
  },
  {
   "cell_type": "code",
   "execution_count": 23,
   "id": "95c6f9b4-1095-4437-b1bb-ac8df9227b55",
   "metadata": {},
   "outputs": [
    {
     "data": {
      "text/plain": [
       "tensor([[0.0244, 0.0385, 0.0409, 0.0888, 0.0914, 0.2327, 0.0942, 0.1954, 0.0469,\n",
       "         0.1466],\n",
       "        [0.1451, 0.1579, 0.0356, 0.0344, 0.0285, 0.0406, 0.1221, 0.2928, 0.0293,\n",
       "         0.1137],\n",
       "        [0.1905, 0.0451, 0.0146, 0.0350, 0.3352, 0.1327, 0.1434, 0.0108, 0.0126,\n",
       "         0.0802],\n",
       "        [0.0124, 0.1572, 0.1054, 0.4887, 0.1092, 0.0513, 0.0189, 0.0093, 0.0225,\n",
       "         0.0250]], grad_fn=<SoftmaxBackward0>)"
      ]
     },
     "execution_count": 23,
     "metadata": {},
     "output_type": "execute_result"
    }
   ],
   "source": [
    "from torch.nn import functional as F\n",
    "probs = F.softmax(logits[:,-1,:], dim=-1)\n",
    "# (batch_size, channels)\n",
    "probs"
   ]
  },
  {
   "cell_type": "code",
   "execution_count": 24,
   "id": "1ed74130-913d-4b52-a014-bb9cb3a6a4db",
   "metadata": {},
   "outputs": [
    {
     "data": {
      "text/plain": [
       "tensor([[7],\n",
       "        [5],\n",
       "        [0],\n",
       "        [3]])"
      ]
     },
     "execution_count": 24,
     "metadata": {},
     "output_type": "execute_result"
    }
   ],
   "source": [
    "torch.multinomial(probs, 1)"
   ]
  },
  {
   "cell_type": "code",
   "execution_count": null,
   "id": "8110d4d3-b714-4b38-84f6-aebf41352060",
   "metadata": {},
   "outputs": [],
   "source": []
  },
  {
   "cell_type": "code",
   "execution_count": 31,
   "id": "cecbafbd-ae17-4c3b-a04b-fbd1145b3426",
   "metadata": {},
   "outputs": [
    {
     "data": {
      "text/plain": [
       "tensor([[1., 0., 0., 0., 0.],\n",
       "        [1., 1., 0., 0., 0.],\n",
       "        [1., 1., 1., 0., 0.],\n",
       "        [1., 1., 1., 1., 0.],\n",
       "        [1., 1., 1., 1., 1.]])"
      ]
     },
     "execution_count": 31,
     "metadata": {},
     "output_type": "execute_result"
    }
   ],
   "source": [
    "w = torch.tril(torch.ones(5,5))\n",
    "w"
   ]
  },
  {
   "cell_type": "code",
   "execution_count": 37,
   "id": "d3356c8c-6a25-490e-83d4-895646bec9eb",
   "metadata": {},
   "outputs": [
    {
     "data": {
      "text/plain": [
       "tensor([[1.0000, 0.0000, 0.0000, 0.0000, 0.0000],\n",
       "        [0.5000, 0.5000, 0.0000, 0.0000, 0.0000],\n",
       "        [0.3333, 0.3333, 0.3333, 0.0000, 0.0000],\n",
       "        [0.2500, 0.2500, 0.2500, 0.2500, 0.0000],\n",
       "        [0.2000, 0.2000, 0.2000, 0.2000, 0.2000]])"
      ]
     },
     "execution_count": 37,
     "metadata": {},
     "output_type": "execute_result"
    }
   ],
   "source": [
    "w = w / torch.sum(w, 1, keepdim=True)\n",
    "w"
   ]
  },
  {
   "cell_type": "code",
   "execution_count": 39,
   "id": "7dd18c9f-93f6-459b-81ed-76c48bd9bf33",
   "metadata": {},
   "outputs": [
    {
     "data": {
      "text/plain": [
       "tensor([[[3., 8., 7., 2.],\n",
       "         [7., 0., 6., 5.],\n",
       "         [5., 0., 0., 6.],\n",
       "         [8., 5., 3., 1.],\n",
       "         [4., 5., 2., 2.]],\n",
       "\n",
       "        [[3., 7., 0., 0.],\n",
       "         [1., 3., 6., 8.],\n",
       "         [7., 5., 5., 7.],\n",
       "         [7., 5., 1., 4.],\n",
       "         [4., 3., 9., 4.]],\n",
       "\n",
       "        [[1., 1., 8., 3.],\n",
       "         [9., 4., 5., 5.],\n",
       "         [1., 4., 1., 2.],\n",
       "         [4., 5., 4., 8.],\n",
       "         [5., 4., 0., 6.]]])"
      ]
     },
     "execution_count": 39,
     "metadata": {},
     "output_type": "execute_result"
    }
   ],
   "source": [
    "v = torch.randint(0,10, (3,5,4)).float()\n",
    "v"
   ]
  },
  {
   "cell_type": "code",
   "execution_count": 40,
   "id": "c9d486c5-d644-40fd-8341-eea9a5259ae5",
   "metadata": {},
   "outputs": [
    {
     "data": {
      "text/plain": [
       "tensor([[[3.0000, 8.0000, 7.0000, 2.0000],\n",
       "         [5.0000, 4.0000, 6.5000, 3.5000],\n",
       "         [5.0000, 2.6667, 4.3333, 4.3333],\n",
       "         [5.7500, 3.2500, 4.0000, 3.5000],\n",
       "         [5.4000, 3.6000, 3.6000, 3.2000]],\n",
       "\n",
       "        [[3.0000, 7.0000, 0.0000, 0.0000],\n",
       "         [2.0000, 5.0000, 3.0000, 4.0000],\n",
       "         [3.6667, 5.0000, 3.6667, 5.0000],\n",
       "         [4.5000, 5.0000, 3.0000, 4.7500],\n",
       "         [4.4000, 4.6000, 4.2000, 4.6000]],\n",
       "\n",
       "        [[1.0000, 1.0000, 8.0000, 3.0000],\n",
       "         [5.0000, 2.5000, 6.5000, 4.0000],\n",
       "         [3.6667, 3.0000, 4.6667, 3.3333],\n",
       "         [3.7500, 3.5000, 4.5000, 4.5000],\n",
       "         [4.0000, 3.6000, 3.6000, 4.8000]]])"
      ]
     },
     "execution_count": 40,
     "metadata": {},
     "output_type": "execute_result"
    }
   ],
   "source": [
    "w @ v"
   ]
  },
  {
   "cell_type": "code",
   "execution_count": null,
   "id": "d86c4723-df27-4d0b-b908-dfd544babfd2",
   "metadata": {},
   "outputs": [],
   "source": []
  },
  {
   "cell_type": "code",
   "execution_count": 41,
   "id": "862f68f4-99c7-4236-9407-5b90800f78a8",
   "metadata": {},
   "outputs": [
    {
     "data": {
      "text/plain": [
       "tensor([[0., -inf, -inf, -inf, -inf],\n",
       "        [0., 0., -inf, -inf, -inf],\n",
       "        [0., 0., 0., -inf, -inf],\n",
       "        [0., 0., 0., 0., -inf],\n",
       "        [0., 0., 0., 0., 0.]])"
      ]
     },
     "execution_count": 41,
     "metadata": {},
     "output_type": "execute_result"
    }
   ],
   "source": [
    "tril = torch.tril(torch.ones(5,5))\n",
    "w = torch.zeros((5,5))\n",
    "w = w.masked_fill(tril == 0, float('-inf'))\n",
    "w"
   ]
  },
  {
   "cell_type": "code",
   "execution_count": 42,
   "id": "bbf14cbc-28b6-432e-b3f3-369600a40f8e",
   "metadata": {},
   "outputs": [
    {
     "data": {
      "text/plain": [
       "tensor([[1.0000, 0.0000, 0.0000, 0.0000, 0.0000],\n",
       "        [0.5000, 0.5000, 0.0000, 0.0000, 0.0000],\n",
       "        [0.3333, 0.3333, 0.3333, 0.0000, 0.0000],\n",
       "        [0.2500, 0.2500, 0.2500, 0.2500, 0.0000],\n",
       "        [0.2000, 0.2000, 0.2000, 0.2000, 0.2000]])"
      ]
     },
     "execution_count": 42,
     "metadata": {},
     "output_type": "execute_result"
    }
   ],
   "source": [
    "w = F.softmax(w, dim=1)\n",
    "w"
   ]
  },
  {
   "cell_type": "code",
   "execution_count": 43,
   "id": "176be77a-a3b7-41ac-bdb7-7e79e56e59da",
   "metadata": {},
   "outputs": [
    {
     "data": {
      "text/plain": [
       "tensor([[[3.0000, 8.0000, 7.0000, 2.0000],\n",
       "         [5.0000, 4.0000, 6.5000, 3.5000],\n",
       "         [5.0000, 2.6667, 4.3333, 4.3333],\n",
       "         [5.7500, 3.2500, 4.0000, 3.5000],\n",
       "         [5.4000, 3.6000, 3.6000, 3.2000]],\n",
       "\n",
       "        [[3.0000, 7.0000, 0.0000, 0.0000],\n",
       "         [2.0000, 5.0000, 3.0000, 4.0000],\n",
       "         [3.6667, 5.0000, 3.6667, 5.0000],\n",
       "         [4.5000, 5.0000, 3.0000, 4.7500],\n",
       "         [4.4000, 4.6000, 4.2000, 4.6000]],\n",
       "\n",
       "        [[1.0000, 1.0000, 8.0000, 3.0000],\n",
       "         [5.0000, 2.5000, 6.5000, 4.0000],\n",
       "         [3.6667, 3.0000, 4.6667, 3.3333],\n",
       "         [3.7500, 3.5000, 4.5000, 4.5000],\n",
       "         [4.0000, 3.6000, 3.6000, 4.8000]]])"
      ]
     },
     "execution_count": 43,
     "metadata": {},
     "output_type": "execute_result"
    }
   ],
   "source": [
    "w @ v"
   ]
  },
  {
   "cell_type": "code",
   "execution_count": null,
   "id": "0223ca64-ec98-42a6-870a-72b586e76443",
   "metadata": {},
   "outputs": [],
   "source": []
  }
 ],
 "metadata": {
  "kernelspec": {
   "display_name": "Python 3 (ipykernel)",
   "language": "python",
   "name": "python3"
  },
  "language_info": {
   "codemirror_mode": {
    "name": "ipython",
    "version": 3
   },
   "file_extension": ".py",
   "mimetype": "text/x-python",
   "name": "python",
   "nbconvert_exporter": "python",
   "pygments_lexer": "ipython3",
   "version": "3.9.19"
  }
 },
 "nbformat": 4,
 "nbformat_minor": 5
}
