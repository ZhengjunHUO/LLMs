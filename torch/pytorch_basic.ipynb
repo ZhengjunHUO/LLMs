{
 "cells": [
  {
   "cell_type": "code",
   "execution_count": 1,
   "id": "795d16f9-3145-44c2-9a63-f30b8d8fb661",
   "metadata": {},
   "outputs": [],
   "source": [
    "import torch\n",
    "import numpy as np"
   ]
  },
  {
   "cell_type": "code",
   "execution_count": 2,
   "id": "42c6b306-e8a8-4e2e-9ada-0a4259d7ce8b",
   "metadata": {},
   "outputs": [
    {
     "data": {
      "text/plain": [
       "tensor([[1, 2],\n",
       "        [3, 4]])"
      ]
     },
     "execution_count": 2,
     "metadata": {},
     "output_type": "execute_result"
    }
   ],
   "source": [
    "data = [[1, 2],[3, 4]]\n",
    "tensor_data = torch.tensor(data)\n",
    "tensor_data"
   ]
  },
  {
   "cell_type": "code",
   "execution_count": 3,
   "id": "aa676b23-9864-42ab-b72f-e524d8a6d7c8",
   "metadata": {},
   "outputs": [
    {
     "data": {
      "text/plain": [
       "tensor([[1, 2],\n",
       "        [3, 4]])"
      ]
     },
     "execution_count": 3,
     "metadata": {},
     "output_type": "execute_result"
    }
   ],
   "source": [
    "array = np.array(data)\n",
    "tensor_from_np = torch.from_numpy(array)\n",
    "tensor_from_np"
   ]
  },
  {
   "cell_type": "code",
   "execution_count": 4,
   "id": "9e56a252-813f-47dc-a6e6-518965c5fd5e",
   "metadata": {},
   "outputs": [
    {
     "data": {
      "text/plain": [
       "(tensor([[1, 1],\n",
       "         [1, 1]]),\n",
       " tensor([[0.0967, 0.0129],\n",
       "         [0.7864, 0.5196]]))"
      ]
     },
     "execution_count": 4,
     "metadata": {},
     "output_type": "execute_result"
    }
   ],
   "source": [
    "tensor_one = torch.ones_like(tensor_data)\n",
    "tensor_rd = torch.rand_like(tensor_data, dtype=torch.float)\n",
    "tensor_one, tensor_rd"
   ]
  },
  {
   "cell_type": "code",
   "execution_count": 6,
   "id": "4154567a-90dd-4c5a-a197-80916aba49ba",
   "metadata": {},
   "outputs": [
    {
     "data": {
      "text/plain": [
       "(tensor([[0., 0., 0., 0.],\n",
       "         [0., 0., 0., 0.],\n",
       "         [0., 0., 0., 0.]]),\n",
       " tensor([[1., 1., 1., 1.],\n",
       "         [1., 1., 1., 1.],\n",
       "         [1., 1., 1., 1.]]),\n",
       " tensor([[0.5047, 0.9350, 0.1998, 0.7971],\n",
       "         [0.4294, 0.8615, 0.7691, 0.3809],\n",
       "         [0.4488, 0.2268, 0.9650, 0.0052]]))"
      ]
     },
     "execution_count": 6,
     "metadata": {},
     "output_type": "execute_result"
    }
   ],
   "source": [
    "shape = (3,4,)\n",
    "torch.zeros(shape), torch.ones(shape), torch.rand(shape)"
   ]
  },
  {
   "cell_type": "code",
   "execution_count": 9,
   "id": "c2fa3703-61bb-4332-ba28-167c79a423f6",
   "metadata": {},
   "outputs": [
    {
     "data": {
      "text/plain": [
       "tensor([[1, 1],\n",
       "        [1, 1],\n",
       "        [1, 1],\n",
       "        [1, 1],\n",
       "        [1, 1],\n",
       "        [1, 1]])"
      ]
     },
     "execution_count": 9,
     "metadata": {},
     "output_type": "execute_result"
    }
   ],
   "source": [
    "torch.cat([tensor_one, tensor_one, tensor_one])"
   ]
  },
  {
   "cell_type": "code",
   "execution_count": 10,
   "id": "9509f529-716f-48dd-befc-cb05c318f9a9",
   "metadata": {},
   "outputs": [
    {
     "data": {
      "text/plain": [
       "tensor([[1, 1, 1, 1, 1, 1],\n",
       "        [1, 1, 1, 1, 1, 1]])"
      ]
     },
     "execution_count": 10,
     "metadata": {},
     "output_type": "execute_result"
    }
   ],
   "source": [
    "torch.cat([tensor_one, tensor_one, tensor_one], dim=1)"
   ]
  },
  {
   "cell_type": "code",
   "execution_count": 17,
   "id": "dcf690aa-bc6a-4bf3-b0d4-383313cc60ad",
   "metadata": {},
   "outputs": [
    {
     "data": {
      "text/plain": [
       "(tensor([[4., 4., 4.],\n",
       "         [4., 4., 4.],\n",
       "         [4., 4., 4.]]),\n",
       " tensor([[1., 1., 1., 1.],\n",
       "         [1., 1., 1., 1.],\n",
       "         [1., 1., 1., 1.]]))"
      ]
     },
     "execution_count": 17,
     "metadata": {},
     "output_type": "execute_result"
    }
   ],
   "source": [
    "torch.ones(shape) @ torch.ones(shape).T, torch.ones(shape) * torch.ones(shape)"
   ]
  },
  {
   "cell_type": "code",
   "execution_count": 21,
   "id": "bfe21de4-1267-4c00-8bc3-96e4db5f6c8b",
   "metadata": {},
   "outputs": [
    {
     "data": {
      "text/plain": [
       "(tensor(10), 10)"
      ]
     },
     "execution_count": 21,
     "metadata": {},
     "output_type": "execute_result"
    }
   ],
   "source": [
    "tensor_data.sum(), tensor_data.sum().item()"
   ]
  },
  {
   "cell_type": "code",
   "execution_count": null,
   "id": "15cd96a0-62ca-407d-a70e-60a4da6f691e",
   "metadata": {},
   "outputs": [],
   "source": []
  }
 ],
 "metadata": {
  "kernelspec": {
   "display_name": "Python 3 (ipykernel)",
   "language": "python",
   "name": "python3"
  },
  "language_info": {
   "codemirror_mode": {
    "name": "ipython",
    "version": 3
   },
   "file_extension": ".py",
   "mimetype": "text/x-python",
   "name": "python",
   "nbconvert_exporter": "python",
   "pygments_lexer": "ipython3",
   "version": "3.11.11"
  }
 },
 "nbformat": 4,
 "nbformat_minor": 5
}
