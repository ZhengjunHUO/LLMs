{
 "cells": [
  {
   "cell_type": "code",
   "execution_count": 1,
   "id": "cc9494d8-9b0b-4dc8-aa9c-bee7f8cba265",
   "metadata": {},
   "outputs": [],
   "source": [
    "from typing import Annotated\n",
    "from typing_extensions import TypedDict\n",
    "from langgraph.graph.message import add_messages\n",
    "\n",
    "class State(TypedDict):\n",
    "    messages: Annotated[list, add_messages]"
   ]
  },
  {
   "cell_type": "code",
   "execution_count": 2,
   "id": "1756675e-a08f-49ba-bd7f-9651b2bd1bec",
   "metadata": {},
   "outputs": [],
   "source": [
    "from langchain_ollama import ChatOllama\n",
    "\n",
    "llm = ChatOllama(model=\"qwen2.5-coder:14b\", temperature=0)"
   ]
  },
  {
   "cell_type": "code",
   "execution_count": 3,
   "id": "abef1454-7f3a-4037-8ecf-99fb42c60192",
   "metadata": {},
   "outputs": [],
   "source": [
    "from langgraph.graph import StateGraph, START, END\n",
    "\n",
    "def chatbot(state: State):\n",
    "    return { \"messages\": [llm.invoke(state[\"messages\"])]}\n",
    "\n",
    "builder = StateGraph(State)\n",
    "builder.add_node(\"chatbot\", chatbot)\n",
    "builder.add_edge(START, \"chatbot\")\n",
    "builder.add_edge(\"chatbot\", END)\n",
    "graph = builder.compile()"
   ]
  },
  {
   "cell_type": "code",
   "execution_count": 4,
   "id": "73849e93-1912-407a-98f6-7ac1d4b00a1a",
   "metadata": {},
   "outputs": [
    {
     "data": {
      "image/png": "[encoded data removed]",
      "text/plain": [
       "<IPython.core.display.Image object>"
      ]
     },
     "metadata": {},
     "output_type": "display_data"
    }
   ],
   "source": [
    "from IPython.display import Image, display\n",
    "\n",
    "try:\n",
    "    display(Image(graph.get_graph().draw_mermaid_png()))\n",
    "except:\n",
    "    pass"
   ]
  },
  {
   "cell_type": "code",
   "execution_count": 5,
   "id": "765ca9af-5640-43e2-9182-b9f62d93b13c",
   "metadata": {},
   "outputs": [],
   "source": [
    "question = \"What's Gemma 3 ?\""
   ]
  },
  {
   "cell_type": "code",
   "execution_count": 6,
   "id": "f9c235c7-f34e-4cbc-8b6d-c86375ba3cec",
   "metadata": {},
   "outputs": [],
   "source": [
    "def run(question: str):\n",
    "    for event in graph.stream({\"messages\": [{\"role\": \"user\", \"content\": question}]}):\n",
    "        for val in event.values():\n",
    "            print(\"AI: \", val[\"messages\"][-1].content)"
   ]
  },
  {
   "cell_type": "code",
   "execution_count": 7,
   "id": "657aef60-4360-4ad7-94aa-b51d37298260",
   "metadata": {},
   "outputs": [
    {
     "name": "stdout",
     "output_type": "stream",
     "text": [
      "AI:  I'm sorry, but I couldn't find any information about \"Gemma 3\". It might be a specific product, service, or technology that is not widely recognized or documented in public resources. If you have more context or details about what Gemma 3 refers to, I would be better able to assist you. Could you please provide additional information?\n"
     ]
    }
   ],
   "source": [
    "run(question)"
   ]
  },
  {
   "cell_type": "markdown",
   "id": "a8effb62-8136-45e7-b47d-3221467f535c",
   "metadata": {},
   "source": [
    "## USE TOOL"
   ]
  },
  {
   "cell_type": "code",
   "execution_count": 11,
   "id": "a07a2c7f-465a-4be6-a652-4f3be3ff8860",
   "metadata": {},
   "outputs": [],
   "source": [
    "from langchain_community.tools import DuckDuckGoSearchResults\n",
    "\n",
    "search_tool = DuckDuckGoSearchResults(num_results=2)"
   ]
  },
  {
   "cell_type": "code",
   "execution_count": 12,
   "id": "6365d855-63bc-4bf1-a7de-3fc41067a278",
   "metadata": {},
   "outputs": [
    {
     "data": {
      "text/plain": [
       "\"snippet: What's new in Gemma? Link to Youtube Video (visible only when JS is disabled) Gemma 3 introduces multimodality, supporting vision-language input and text outputs. It handles context windows up to 128k tokens, understands over 140 languages, and offers improved math, reasoning, and chat capabilities, including structured outputs and function ..., title: Introducing Gemma 3: The Developer Guide- Google Developers Blog, link: https://developers.googleblog.com/en/introducing-gemma3/, snippet: What is Gemma 3? Gemma 3 is Google's latest iteration of open weight LLMs. It comes in four sizes, 1 billion, 4 billion, 12 billion, and 27 billion parameters with base (pre-trained) and instruction-tuned versions. Gemma 3 goes multimodal!The 4, 12, and 27 billion parameter models can process both images and text, while the 1B variant is text only.. The input context window length has been ..., title: Welcome Gemma 3: Google's all new multimodal, multilingual, long ..., link: https://huggingface.co/blog/gemma3\""
      ]
     },
     "execution_count": 12,
     "metadata": {},
     "output_type": "execute_result"
    }
   ],
   "source": [
    "# TEST\n",
    "search_tool.invoke(question)"
   ]
  },
  {
   "cell_type": "code",
   "execution_count": null,
   "id": "51b66569-aa9b-425f-b7e6-0bc1ac940023",
   "metadata": {},
   "outputs": [],
   "source": [
    "from langgraph.prebuilt import ToolNode, tools_condition\n",
    "\n",
    "tools = [search_tool]\n",
    "llm_with_tools = llm.bind_tools(tools)\n",
    "\n",
    "def chatbot(state: State):\n",
    "    return { \"messages\": [llm_with_tools.invoke(state[\"messages\"])]}\n",
    "\n",
    "tools_node = ToolNode(tools=tools)"
   ]
  },
  {
   "cell_type": "code",
   "execution_count": 20,
   "id": "91bfadf3-5af9-4a39-b865-de2284f9acad",
   "metadata": {},
   "outputs": [],
   "source": [
    "from langgraph.graph import StateGraph, START, END\n",
    "\n",
    "builder = StateGraph(State)\n",
    "builder.add_node(\"chatbot\", chatbot)\n",
    "builder.add_node(\"tools\", tools_node)\n",
    "builder.add_edge(START, \"chatbot\")\n",
    "builder.add_conditional_edges(\n",
    "    \"chatbot\",\n",
    "    tools_condition,\n",
    ")\n",
    "builder.add_edge(\"tools\", \"chatbot\")\n",
    "graph = builder.compile()"
   ]
  },
  {
   "cell_type": "code",
   "execution_count": 21,
   "id": "10de7757-cac6-4439-8d21-732a0770b3a7",
   "metadata": {},
   "outputs": [
    {
     "data": {
      "image/png": "[encoded data removed]",
      "text/plain": [
       "<IPython.core.display.Image object>"
      ]
     },
     "metadata": {},
     "output_type": "display_data"
    }
   ],
   "source": [
    "from IPython.display import Image, display\n",
    "\n",
    "try:\n",
    "    display(Image(graph.get_graph().draw_mermaid_png()))\n",
    "except:\n",
    "    pass"
   ]
  },
  {
   "cell_type": "code",
   "execution_count": 22,
   "id": "63c811d4-89aa-442c-9e84-b70a4a40e31f",
   "metadata": {},
   "outputs": [
    {
     "name": "stdout",
     "output_type": "stream",
     "text": [
      "AI:  \n",
      "AI:  snippet: Gemma 3 is the latest version of the Gemma family of open models, which can handle vision-language input and text outputs, and understand over 140 languages. Learn how to use Gemma 3 for text and image tasks, fine-tune it for your domains, and explore its features and applications., title: Introducing Gemma 3: The Developer Guide- Google Developers Blog, link: https://developers.googleblog.com/en/introducing-gemma3/, snippet: Gemma 3 is a family of open weight language models that can process images and text, and support 140+ languages. Learn about its features, technical enhancements, evaluation, and inference with 🤗 transformers., title: Welcome Gemma 3: Google's all new multimodal, multilingual, long ..., link: https://huggingface.co/blog/gemma3\n",
      "AI:  Gemma 3 is the latest version of the Gemma family of open models. It can handle vision-language input and text outputs, and understand over 140 languages. You can use it for various tasks such as text and image processing, fine-tuning for specific domains, and exploring its features and applications.\n"
     ]
    }
   ],
   "source": [
    "run(question)"
   ]
  },
  {
   "cell_type": "markdown",
   "id": "e1b17c5d-18f1-4d20-97bb-f22eeb72c0fe",
   "metadata": {},
   "source": [
    "## ACTIVATE MEMORY"
   ]
  },
  {
   "cell_type": "code",
   "execution_count": 23,
   "id": "fb5ec87a-88f4-40fc-921b-91e079d47a4f",
   "metadata": {},
   "outputs": [],
   "source": [
    "from langgraph.checkpoint.memory import MemorySaver\n",
    "\n",
    "memory_saver = MemorySaver()"
   ]
  },
  {
   "cell_type": "code",
   "execution_count": 24,
   "id": "ec75f672-6b88-4c4a-a2a6-7b1106ac94fc",
   "metadata": {},
   "outputs": [],
   "source": [
    "from langgraph.graph import StateGraph, START, END\n",
    "\n",
    "builder = StateGraph(State)\n",
    "builder.add_node(\"chatbot\", chatbot)\n",
    "builder.add_node(\"tools\", tools_node)\n",
    "builder.add_edge(START, \"chatbot\")\n",
    "builder.add_conditional_edges(\n",
    "    \"chatbot\",\n",
    "    tools_condition,\n",
    ")\n",
    "builder.add_edge(\"tools\", \"chatbot\")\n",
    "graph = builder.compile(checkpointer=memory_saver)"
   ]
  },
  {
   "cell_type": "code",
   "execution_count": 25,
   "id": "57132f90-2889-4d38-bdac-d1214f6c3c43",
   "metadata": {},
   "outputs": [],
   "source": [
    "config = {\"configurable\": {\"thread_id\": \"1\"}}"
   ]
  },
  {
   "cell_type": "code",
   "execution_count": 26,
   "id": "aba68fb1-4998-4745-aee8-a996afc98081",
   "metadata": {},
   "outputs": [],
   "source": [
    "def run_with_memory(question: str):\n",
    "    for val in graph.stream({\"messages\": [{\"role\": \"user\", \"content\": question}]}, config, stream_mode=\"values\"):\n",
    "        val[\"messages\"][-1].pretty_print()"
   ]
  },
  {
   "cell_type": "code",
   "execution_count": 28,
   "id": "5d70d313-959b-408a-b4da-25390f85afd9",
   "metadata": {},
   "outputs": [],
   "source": [
    "user_input = \"Hello, my name is huo\""
   ]
  },
  {
   "cell_type": "code",
   "execution_count": 29,
   "id": "9bd98e7b-33ec-4ffc-82fe-fa5a46d271d3",
   "metadata": {},
   "outputs": [
    {
     "name": "stdout",
     "output_type": "stream",
     "text": [
      "================================\u001b[1m Human Message \u001b[0m=================================\n",
      "\n",
      "Hello, my name is huo\n",
      "==================================\u001b[1m Ai Message \u001b[0m==================================\n",
      "\n",
      "Hello Huo! How can I assist you today? If you have any questions or need information on a specific topic, feel free to ask.\n"
     ]
    }
   ],
   "source": [
    "run_with_memory(user_input)"
   ]
  },
  {
   "cell_type": "code",
   "execution_count": 30,
   "id": "8301d06b-f426-4ef7-8fd9-f02366575f78",
   "metadata": {},
   "outputs": [
    {
     "name": "stdout",
     "output_type": "stream",
     "text": [
      "================================\u001b[1m Human Message \u001b[0m=================================\n",
      "\n",
      "You still remember my name ?\n",
      "==================================\u001b[1m Ai Message \u001b[0m==================================\n",
      "\n",
      "Yes, I remember your name is Huo. How can I help you today?\n"
     ]
    }
   ],
   "source": [
    "user_follow_up = \"You still remember my name ?\"\n",
    "run_with_memory(user_follow_up)"
   ]
  },
  {
   "cell_type": "code",
   "execution_count": 31,
   "id": "8334e831-4668-4b62-ba24-c156a5a96586",
   "metadata": {},
   "outputs": [
    {
     "data": {
      "text/plain": [
       "StateSnapshot(values={'messages': [HumanMessage(content='Hello, my name is huo', additional_kwargs={}, response_metadata={}, id='ae5848a3-6a92-4d0d-9041-4132235adb70'), AIMessage(content='Hello Huo! How can I assist you today? If you have any questions or need information on a specific topic, feel free to ask.', additional_kwargs={}, response_metadata={'model': 'qwen2.5-coder:14b', 'created_at': '2025-04-21T11:39:30.092604309Z', 'done': True, 'done_reason': 'stop', 'total_duration': 2250670508, 'load_duration': 1600613123, 'prompt_eval_count': 188, 'prompt_eval_duration': 138000000, 'eval_count': 30, 'eval_duration': 507000000, 'message': {'role': 'assistant', 'content': 'Hello Huo! How can I assist you today? If you have any questions or need information on a specific topic, feel free to ask.', 'images': None, 'tool_calls': None}}, id='run-ed64570b-4894-4a16-a6de-0bd9777b9426-0', usage_metadata={'input_tokens': 188, 'output_tokens': 30, 'total_tokens': 218}), HumanMessage(content='You still remember my name ?', additional_kwargs={}, response_metadata={}, id='e504edaf-6e53-4a7d-91c9-b6f70b832d77'), AIMessage(content='Yes, I remember your name is Huo. How can I help you today?', additional_kwargs={}, response_metadata={'model': 'qwen2.5-coder:14b', 'created_at': '2025-04-21T11:40:34.377896579Z', 'done': True, 'done_reason': 'stop', 'total_duration': 367055084, 'load_duration': 12756009, 'prompt_eval_count': 233, 'prompt_eval_duration': 28000000, 'eval_count': 18, 'eval_duration': 315000000, 'message': {'role': 'assistant', 'content': 'Yes, I remember your name is Huo. How can I help you today?', 'images': None, 'tool_calls': None}}, id='run-454007f3-b3e7-4d1d-860c-e3cd86790af5-0', usage_metadata={'input_tokens': 233, 'output_tokens': 18, 'total_tokens': 251})]}, next=(), config={'configurable': {'thread_id': '1', 'checkpoint_ns': '', 'checkpoint_id': '1f01ea56-fdeb-6e4f-8004-fb42adad8afc'}}, metadata={'source': 'loop', 'writes': {'chatbot': {'messages': [AIMessage(content='Yes, I remember your name is Huo. How can I help you today?', additional_kwargs={}, response_metadata={'model': 'qwen2.5-coder:14b', 'created_at': '2025-04-21T11:40:34.377896579Z', 'done': True, 'done_reason': 'stop', 'total_duration': 367055084, 'load_duration': 12756009, 'prompt_eval_count': 233, 'prompt_eval_duration': 28000000, 'eval_count': 18, 'eval_duration': 315000000, 'message': {'role': 'assistant', 'content': 'Yes, I remember your name is Huo. How can I help you today?', 'images': None, 'tool_calls': None}}, id='run-454007f3-b3e7-4d1d-860c-e3cd86790af5-0', usage_metadata={'input_tokens': 233, 'output_tokens': 18, 'total_tokens': 251})]}}, 'step': 4, 'parents': {}, 'thread_id': '1'}, created_at='2025-04-21T11:40:34.379108+00:00', parent_config={'configurable': {'thread_id': '1', 'checkpoint_ns': '', 'checkpoint_id': '1f01ea56-fa5c-650a-8003-c4ec76d3fc3c'}}, tasks=())"
      ]
     },
     "execution_count": 31,
     "metadata": {},
     "output_type": "execute_result"
    }
   ],
   "source": [
    "state_snapshot = graph.get_state(config)\n",
    "state_snapshot"
   ]
  },
  {
   "cell_type": "markdown",
   "id": "9369e8fb-95b8-441e-9720-24a7267b0377",
   "metadata": {},
   "source": [
    "## Human Assistance"
   ]
  },
  {
   "cell_type": "code",
   "execution_count": 36,
   "id": "d3d94630-8086-4bfc-9045-a0aea248ad16",
   "metadata": {},
   "outputs": [],
   "source": [
    "from langchain_core.tools import tool\n",
    "from langgraph.types import interrupt\n",
    "\n",
    "@tool\n",
    "def human_assist(query: str) -> str:\n",
    "    \"\"\"Request assistance from human\"\"\"\n",
    "    resp = interrupt({\"query\": query})\n",
    "    return resp[\"data\"]"
   ]
  },
  {
   "cell_type": "code",
   "execution_count": 37,
   "id": "317e7f48-9b8d-4273-bd0b-8b92c80b5e17",
   "metadata": {},
   "outputs": [],
   "source": [
    "from langgraph.prebuilt import ToolNode, tools_condition\n",
    "\n",
    "tools = [search_tool, human_assist]\n",
    "llm_with_tools = llm.bind_tools(tools)\n",
    "\n",
    "def chatbot(state: State):\n",
    "    message = llm_with_tools.invoke(state[\"messages\"])\n",
    "    assert len(message.tool_calls) <= 1\n",
    "    return { \"messages\": [message]}\n",
    "\n",
    "tools_node = ToolNode(tools=tools)"
   ]
  },
  {
   "cell_type": "code",
   "execution_count": 38,
   "id": "cbc46525-2e08-4b3b-a3bf-d8191c73c4c3",
   "metadata": {},
   "outputs": [],
   "source": [
    "from langgraph.checkpoint.memory import MemorySaver\n",
    "from langgraph.graph import StateGraph, START, END\n",
    "\n",
    "memory_saver = MemorySaver()\n",
    "\n",
    "builder = StateGraph(State)\n",
    "builder.add_node(\"chatbot\", chatbot)\n",
    "builder.add_node(\"tools\", tools_node)\n",
    "builder.add_edge(START, \"chatbot\")\n",
    "builder.add_conditional_edges(\n",
    "    \"chatbot\",\n",
    "    tools_condition,\n",
    ")\n",
    "builder.add_edge(\"tools\", \"chatbot\")\n",
    "graph = builder.compile(checkpointer=memory_saver)"
   ]
  },
  {
   "cell_type": "code",
   "execution_count": 39,
   "id": "1cb08eb1-32c6-4645-8a02-aca003d8ae6a",
   "metadata": {},
   "outputs": [],
   "source": [
    "user_input = \"I need some expert guidance for building a streaming platform, could you request assistance for me ?\""
   ]
  },
  {
   "cell_type": "code",
   "execution_count": 40,
   "id": "e3607a60-8296-45fe-803e-93aa6cf5b5c8",
   "metadata": {},
   "outputs": [
    {
     "name": "stdout",
     "output_type": "stream",
     "text": [
      "================================\u001b[1m Human Message \u001b[0m=================================\n",
      "\n",
      "I need some expert guidance for building a streaming platform, could you request assistance for me ?\n",
      "==================================\u001b[1m Ai Message \u001b[0m==================================\n",
      "Tool Calls:\n",
      "  human_assist (ec04c742-2346-49e7-ba2a-2f14bf2cc997)\n",
      " Call ID: ec04c742-2346-49e7-ba2a-2f14bf2cc997\n",
      "  Args:\n",
      "    query: I need some expert guidance for building a streaming platform. Could you provide assistance?\n"
     ]
    }
   ],
   "source": [
    "run_with_memory(user_input)"
   ]
  },
  {
   "cell_type": "code",
   "execution_count": 42,
   "id": "2100cc45-78b7-479a-81a6-621d31a7b9c9",
   "metadata": {},
   "outputs": [
    {
     "data": {
      "text/plain": [
       "('tools',)"
      ]
     },
     "execution_count": 42,
     "metadata": {},
     "output_type": "execute_result"
    }
   ],
   "source": [
    "state_snapshot = graph.get_state(config)\n",
    "state_snapshot.next"
   ]
  },
  {
   "cell_type": "code",
   "execution_count": 43,
   "id": "fc3efc27-ce60-44ff-889c-b1fcdaff6e47",
   "metadata": {},
   "outputs": [],
   "source": [
    "from langgraph.types import Command\n",
    "\n",
    "human_response = (\n",
    "    \"The experts are here to help ! We recommand you check out Redpanda to build your streaming platform.\"\n",
    "    \"It's built in C++, which is far more efficient than traditional platform written in Java.\"\n",
    ")\n",
    "\n",
    "command = Command(resume={\"data\": human_response})"
   ]
  },
  {
   "cell_type": "code",
   "execution_count": 47,
   "id": "4651f8ba-2c88-4890-9232-4b2c6fb21f69",
   "metadata": {},
   "outputs": [],
   "source": [
    "def resume_with_command(command: Command):\n",
    "    for val in graph.stream(command, config, stream_mode=\"values\"):\n",
    "        val[\"messages\"][-1].pretty_print()"
   ]
  },
  {
   "cell_type": "code",
   "execution_count": 48,
   "id": "88ba3e5c-87dd-44e4-a22d-bf79a5f740b8",
   "metadata": {},
   "outputs": [
    {
     "name": "stdout",
     "output_type": "stream",
     "text": [
      "==================================\u001b[1m Ai Message \u001b[0m==================================\n",
      "Tool Calls:\n",
      "  human_assist (ec04c742-2346-49e7-ba2a-2f14bf2cc997)\n",
      " Call ID: ec04c742-2346-49e7-ba2a-2f14bf2cc997\n",
      "  Args:\n",
      "    query: I need some expert guidance for building a streaming platform. Could you provide assistance?\n",
      "=================================\u001b[1m Tool Message \u001b[0m=================================\n",
      "Name: human_assist\n",
      "\n",
      "The experts are here to help ! We recommand you check out Redpanda to build your streaming platform.It's built in C++, which is far more efficient than traditional platform written in Java.\n",
      "==================================\u001b[1m Ai Message \u001b[0m==================================\n",
      "\n",
      "Thank you for the recommendation! If you have any specific questions or need further assistance with building your streaming platform using Redpanda, feel free to ask.\n"
     ]
    }
   ],
   "source": [
    "resume_with_command(command)"
   ]
  },
  {
   "cell_type": "code",
   "execution_count": null,
   "id": "321a43c0-2869-4855-96f1-5dfcf3571d21",
   "metadata": {},
   "outputs": [],
   "source": []
  }
 ],
 "metadata": {
  "kernelspec": {
   "display_name": "Python 3 (ipykernel)",
   "language": "python",
   "name": "python3"
  },
  "language_info": {
   "codemirror_mode": {
    "name": "ipython",
    "version": 3
   },
   "file_extension": ".py",
   "mimetype": "text/x-python",
   "name": "python",
   "nbconvert_exporter": "python",
   "pygments_lexer": "ipython3",
   "version": "3.9.21"
  }
 },
 "nbformat": 4,
 "nbformat_minor": 5
}
