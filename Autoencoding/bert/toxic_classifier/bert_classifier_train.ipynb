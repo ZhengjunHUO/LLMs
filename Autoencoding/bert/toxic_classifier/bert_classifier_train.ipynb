{
 "cells": [
  {
   "cell_type": "code",
   "execution_count": 1,
   "id": "0ea7c1fa-3be5-4390-8773-47f15f43df45",
   "metadata": {},
   "outputs": [],
   "source": [
    "import pandas as pd"
   ]
  },
  {
   "cell_type": "code",
   "execution_count": 2,
   "id": "292d192c-2f81-4679-8d5d-054ed511caff",
   "metadata": {},
   "outputs": [
    {
     "data": {
      "text/html": [
       "<div>\n",
       "<style scoped>\n",
       "    .dataframe tbody tr th:only-of-type {\n",
       "        vertical-align: middle;\n",
       "    }\n",
       "\n",
       "    .dataframe tbody tr th {\n",
       "        vertical-align: top;\n",
       "    }\n",
       "\n",
       "    .dataframe thead th {\n",
       "        text-align: right;\n",
       "    }\n",
       "</style>\n",
       "<table border=\"1\" class=\"dataframe\">\n",
       "  <thead>\n",
       "    <tr style=\"text-align: right;\">\n",
       "      <th></th>\n",
       "      <th>id</th>\n",
       "      <th>comment_text</th>\n",
       "      <th>toxic</th>\n",
       "      <th>severe_toxic</th>\n",
       "      <th>obscene</th>\n",
       "      <th>threat</th>\n",
       "      <th>insult</th>\n",
       "      <th>identity_hate</th>\n",
       "    </tr>\n",
       "  </thead>\n",
       "  <tbody>\n",
       "    <tr>\n",
       "      <th>0</th>\n",
       "      <td>0000997932d777bf</td>\n",
       "      <td>Explanation\\nWhy the edits made under my usern...</td>\n",
       "      <td>0</td>\n",
       "      <td>0</td>\n",
       "      <td>0</td>\n",
       "      <td>0</td>\n",
       "      <td>0</td>\n",
       "      <td>0</td>\n",
       "    </tr>\n",
       "    <tr>\n",
       "      <th>1</th>\n",
       "      <td>000103f0d9cfb60f</td>\n",
       "      <td>D'aww! He matches this background colour I'm s...</td>\n",
       "      <td>0</td>\n",
       "      <td>0</td>\n",
       "      <td>0</td>\n",
       "      <td>0</td>\n",
       "      <td>0</td>\n",
       "      <td>0</td>\n",
       "    </tr>\n",
       "    <tr>\n",
       "      <th>2</th>\n",
       "      <td>000113f07ec002fd</td>\n",
       "      <td>Hey man, I'm really not trying to edit war. It...</td>\n",
       "      <td>0</td>\n",
       "      <td>0</td>\n",
       "      <td>0</td>\n",
       "      <td>0</td>\n",
       "      <td>0</td>\n",
       "      <td>0</td>\n",
       "    </tr>\n",
       "    <tr>\n",
       "      <th>3</th>\n",
       "      <td>0001b41b1c6bb37e</td>\n",
       "      <td>\"\\nMore\\nI can't make any real suggestions on ...</td>\n",
       "      <td>0</td>\n",
       "      <td>0</td>\n",
       "      <td>0</td>\n",
       "      <td>0</td>\n",
       "      <td>0</td>\n",
       "      <td>0</td>\n",
       "    </tr>\n",
       "    <tr>\n",
       "      <th>4</th>\n",
       "      <td>0001d958c54c6e35</td>\n",
       "      <td>You, sir, are my hero. Any chance you remember...</td>\n",
       "      <td>0</td>\n",
       "      <td>0</td>\n",
       "      <td>0</td>\n",
       "      <td>0</td>\n",
       "      <td>0</td>\n",
       "      <td>0</td>\n",
       "    </tr>\n",
       "  </tbody>\n",
       "</table>\n",
       "</div>"
      ],
      "text/plain": [
       "                 id                                       comment_text  toxic  \\\n",
       "0  0000997932d777bf  Explanation\\nWhy the edits made under my usern...      0   \n",
       "1  000103f0d9cfb60f  D'aww! He matches this background colour I'm s...      0   \n",
       "2  000113f07ec002fd  Hey man, I'm really not trying to edit war. It...      0   \n",
       "3  0001b41b1c6bb37e  \"\\nMore\\nI can't make any real suggestions on ...      0   \n",
       "4  0001d958c54c6e35  You, sir, are my hero. Any chance you remember...      0   \n",
       "\n",
       "   severe_toxic  obscene  threat  insult  identity_hate  \n",
       "0             0        0       0       0              0  \n",
       "1             0        0       0       0              0  \n",
       "2             0        0       0       0              0  \n",
       "3             0        0       0       0              0  \n",
       "4             0        0       0       0              0  "
      ]
     },
     "execution_count": 2,
     "metadata": {},
     "output_type": "execute_result"
    }
   ],
   "source": [
    "df_raw = pd.read_csv(\"./toxic.csv\")\n",
    "df_raw.head()"
   ]
  },
  {
   "cell_type": "code",
   "execution_count": 3,
   "id": "ffb3e1d7-f9dd-416e-9cc7-9a37c994e9e6",
   "metadata": {},
   "outputs": [],
   "source": [
    "TOXIC_LABELS = df_raw.columns.tolist()[2:]\n",
    "toxic_items = df_raw[df_raw[TOXIC_LABELS].sum(axis=1) > 0]\n",
    "ok_items = df_raw[df_raw[TOXIC_LABELS].sum(axis=1) == 0]"
   ]
  },
  {
   "cell_type": "code",
   "execution_count": 4,
   "id": "c0beaeb8-e587-415a-95d4-afdc2322ccb2",
   "metadata": {},
   "outputs": [],
   "source": [
    "sample_size = 15000"
   ]
  },
  {
   "cell_type": "code",
   "execution_count": 5,
   "id": "38b90729-c969-4d6e-a842-48e7bd845fc2",
   "metadata": {},
   "outputs": [],
   "source": [
    "df = pd.concat([\n",
    "    toxic_items.sample(sample_size),\n",
    "    ok_items.sample(sample_size)\n",
    "])"
   ]
  },
  {
   "cell_type": "code",
   "execution_count": 6,
   "id": "10ba2234-4633-4842-aa5f-60040567972f",
   "metadata": {},
   "outputs": [
    {
     "data": {
      "text/html": [
       "<div>\n",
       "<style scoped>\n",
       "    .dataframe tbody tr th:only-of-type {\n",
       "        vertical-align: middle;\n",
       "    }\n",
       "\n",
       "    .dataframe tbody tr th {\n",
       "        vertical-align: top;\n",
       "    }\n",
       "\n",
       "    .dataframe thead th {\n",
       "        text-align: right;\n",
       "    }\n",
       "</style>\n",
       "<table border=\"1\" class=\"dataframe\">\n",
       "  <thead>\n",
       "    <tr style=\"text-align: right;\">\n",
       "      <th></th>\n",
       "      <th>id</th>\n",
       "      <th>comment_text</th>\n",
       "      <th>toxic</th>\n",
       "      <th>severe_toxic</th>\n",
       "      <th>obscene</th>\n",
       "      <th>threat</th>\n",
       "      <th>insult</th>\n",
       "      <th>identity_hate</th>\n",
       "      <th>label</th>\n",
       "    </tr>\n",
       "  </thead>\n",
       "  <tbody>\n",
       "    <tr>\n",
       "      <th>144119</th>\n",
       "      <td>081a57601f9f54b0</td>\n",
       "      <td>er no he's  6 ft 4 ACTUALLY so get bent.if he ...</td>\n",
       "      <td>1</td>\n",
       "      <td>0</td>\n",
       "      <td>0</td>\n",
       "      <td>0</td>\n",
       "      <td>0</td>\n",
       "      <td>0</td>\n",
       "      <td>1</td>\n",
       "    </tr>\n",
       "    <tr>\n",
       "      <th>76827</th>\n",
       "      <td>cdbdd5f8d3d12442</td>\n",
       "      <td>lonely\\n\\nGo outside and make a friend.  You'v...</td>\n",
       "      <td>0</td>\n",
       "      <td>0</td>\n",
       "      <td>0</td>\n",
       "      <td>0</td>\n",
       "      <td>1</td>\n",
       "      <td>0</td>\n",
       "      <td>1</td>\n",
       "    </tr>\n",
       "    <tr>\n",
       "      <th>66774</th>\n",
       "      <td>b2ade468ffdf9aff</td>\n",
       "      <td>You are a troublemaker, a liar, and a maliciou...</td>\n",
       "      <td>1</td>\n",
       "      <td>0</td>\n",
       "      <td>0</td>\n",
       "      <td>0</td>\n",
       "      <td>0</td>\n",
       "      <td>0</td>\n",
       "      <td>1</td>\n",
       "    </tr>\n",
       "    <tr>\n",
       "      <th>49866</th>\n",
       "      <td>855269851f35946c</td>\n",
       "      <td>you are part of isis \\n\\nCouple of days ago u ...</td>\n",
       "      <td>1</td>\n",
       "      <td>0</td>\n",
       "      <td>0</td>\n",
       "      <td>1</td>\n",
       "      <td>0</td>\n",
       "      <td>0</td>\n",
       "      <td>1</td>\n",
       "    </tr>\n",
       "    <tr>\n",
       "      <th>75178</th>\n",
       "      <td>c924ea376dd6eb78</td>\n",
       "      <td>bomb is going to blow in your country go save ...</td>\n",
       "      <td>1</td>\n",
       "      <td>0</td>\n",
       "      <td>0</td>\n",
       "      <td>0</td>\n",
       "      <td>0</td>\n",
       "      <td>0</td>\n",
       "      <td>1</td>\n",
       "    </tr>\n",
       "    <tr>\n",
       "      <th>...</th>\n",
       "      <td>...</td>\n",
       "      <td>...</td>\n",
       "      <td>...</td>\n",
       "      <td>...</td>\n",
       "      <td>...</td>\n",
       "      <td>...</td>\n",
       "      <td>...</td>\n",
       "      <td>...</td>\n",
       "      <td>...</td>\n",
       "    </tr>\n",
       "    <tr>\n",
       "      <th>121862</th>\n",
       "      <td>8bf0349959d50fb7</td>\n",
       "      <td>\"\\n\\nSphinx Facing Leo vs Orion Rising - Witne...</td>\n",
       "      <td>0</td>\n",
       "      <td>0</td>\n",
       "      <td>0</td>\n",
       "      <td>0</td>\n",
       "      <td>0</td>\n",
       "      <td>0</td>\n",
       "      <td>0</td>\n",
       "    </tr>\n",
       "    <tr>\n",
       "      <th>64753</th>\n",
       "      <td>ad4b63c43d8da86f</td>\n",
       "      <td>icarly\\n\\nHey can you revert this edit \\nhttp:...</td>\n",
       "      <td>0</td>\n",
       "      <td>0</td>\n",
       "      <td>0</td>\n",
       "      <td>0</td>\n",
       "      <td>0</td>\n",
       "      <td>0</td>\n",
       "      <td>0</td>\n",
       "    </tr>\n",
       "    <tr>\n",
       "      <th>44930</th>\n",
       "      <td>781c8ddcc4140ea2</td>\n",
       "      <td>\"\\nThere's nothing wrong with being bold, unle...</td>\n",
       "      <td>0</td>\n",
       "      <td>0</td>\n",
       "      <td>0</td>\n",
       "      <td>0</td>\n",
       "      <td>0</td>\n",
       "      <td>0</td>\n",
       "      <td>0</td>\n",
       "    </tr>\n",
       "    <tr>\n",
       "      <th>133906</th>\n",
       "      <td>cc5983ea4556d740</td>\n",
       "      <td>I dont even remember READING this, let alone e...</td>\n",
       "      <td>0</td>\n",
       "      <td>0</td>\n",
       "      <td>0</td>\n",
       "      <td>0</td>\n",
       "      <td>0</td>\n",
       "      <td>0</td>\n",
       "      <td>0</td>\n",
       "    </tr>\n",
       "    <tr>\n",
       "      <th>110925</th>\n",
       "      <td>51730071d5029f6f</td>\n",
       "      <td>\"\\n\\nIn any event, \"\"...the abundance of shutt...</td>\n",
       "      <td>0</td>\n",
       "      <td>0</td>\n",
       "      <td>0</td>\n",
       "      <td>0</td>\n",
       "      <td>0</td>\n",
       "      <td>0</td>\n",
       "      <td>0</td>\n",
       "    </tr>\n",
       "  </tbody>\n",
       "</table>\n",
       "<p>30000 rows × 9 columns</p>\n",
       "</div>"
      ],
      "text/plain": [
       "                      id                                       comment_text  \\\n",
       "144119  081a57601f9f54b0  er no he's  6 ft 4 ACTUALLY so get bent.if he ...   \n",
       "76827   cdbdd5f8d3d12442  lonely\\n\\nGo outside and make a friend.  You'v...   \n",
       "66774   b2ade468ffdf9aff  You are a troublemaker, a liar, and a maliciou...   \n",
       "49866   855269851f35946c  you are part of isis \\n\\nCouple of days ago u ...   \n",
       "75178   c924ea376dd6eb78  bomb is going to blow in your country go save ...   \n",
       "...                  ...                                                ...   \n",
       "121862  8bf0349959d50fb7  \"\\n\\nSphinx Facing Leo vs Orion Rising - Witne...   \n",
       "64753   ad4b63c43d8da86f  icarly\\n\\nHey can you revert this edit \\nhttp:...   \n",
       "44930   781c8ddcc4140ea2  \"\\nThere's nothing wrong with being bold, unle...   \n",
       "133906  cc5983ea4556d740  I dont even remember READING this, let alone e...   \n",
       "110925  51730071d5029f6f  \"\\n\\nIn any event, \"\"...the abundance of shutt...   \n",
       "\n",
       "        toxic  severe_toxic  obscene  threat  insult  identity_hate  label  \n",
       "144119      1             0        0       0       0              0      1  \n",
       "76827       0             0        0       0       1              0      1  \n",
       "66774       1             0        0       0       0              0      1  \n",
       "49866       1             0        0       1       0              0      1  \n",
       "75178       1             0        0       0       0              0      1  \n",
       "...       ...           ...      ...     ...     ...            ...    ...  \n",
       "121862      0             0        0       0       0              0      0  \n",
       "64753       0             0        0       0       0              0      0  \n",
       "44930       0             0        0       0       0              0      0  \n",
       "133906      0             0        0       0       0              0      0  \n",
       "110925      0             0        0       0       0              0      0  \n",
       "\n",
       "[30000 rows x 9 columns]"
      ]
     },
     "execution_count": 6,
     "metadata": {},
     "output_type": "execute_result"
    }
   ],
   "source": [
    "df[\"label\"] = (df[TOXIC_LABELS].sum(axis=1) > 0).astype(int)\n",
    "df"
   ]
  },
  {
   "cell_type": "code",
   "execution_count": 7,
   "id": "3d801e8b-be86-4b1a-8580-a6d0ecb08d1b",
   "metadata": {},
   "outputs": [
    {
     "data": {
      "text/plain": [
       "DatasetDict({\n",
       "    train: Dataset({\n",
       "        features: ['id', 'comment_text', 'toxic', 'severe_toxic', 'obscene', 'threat', 'insult', 'identity_hate', 'label', '__index_level_0__'],\n",
       "        num_rows: 24000\n",
       "    })\n",
       "    test: Dataset({\n",
       "        features: ['id', 'comment_text', 'toxic', 'severe_toxic', 'obscene', 'threat', 'insult', 'identity_hate', 'label', '__index_level_0__'],\n",
       "        num_rows: 6000\n",
       "    })\n",
       "})"
      ]
     },
     "execution_count": 7,
     "metadata": {},
     "output_type": "execute_result"
    }
   ],
   "source": [
    "from datasets import Dataset\n",
    "\n",
    "toxic_dataset = Dataset.from_pandas(df).train_test_split(test_size=0.2)\n",
    "toxic_dataset"
   ]
  },
  {
   "cell_type": "code",
   "execution_count": 8,
   "id": "cba68dc4-3cc4-4ebf-b1b9-5b02ae871666",
   "metadata": {},
   "outputs": [],
   "source": [
    "from transformers import DistilBertTokenizer\n",
    "\n",
    "bert_tokenizer = DistilBertTokenizer.from_pretrained(\"distilbert-base-uncased\")\n",
    "\n",
    "def tokenize(data):\n",
    "    return bert_tokenizer(data[\"comment_text\"], truncation=True)"
   ]
  },
  {
   "cell_type": "code",
   "execution_count": 9,
   "id": "bbbc227f-0856-4330-971b-fd9f4528df3a",
   "metadata": {},
   "outputs": [
    {
     "data": {
      "application/vnd.jupyter.widget-view+json": {
       "model_id": "b3f161712bff45eea919e6a392f35f65",
       "version_major": 2,
       "version_minor": 0
      },
      "text/plain": [
       "Map:   0%|          | 0/24000 [00:00<?, ? examples/s]"
      ]
     },
     "metadata": {},
     "output_type": "display_data"
    },
    {
     "data": {
      "application/vnd.jupyter.widget-view+json": {
       "model_id": "dd613a79ff3b44969b585d53cab18cb9",
       "version_major": 2,
       "version_minor": 0
      },
      "text/plain": [
       "Map:   0%|          | 0/6000 [00:00<?, ? examples/s]"
      ]
     },
     "metadata": {},
     "output_type": "display_data"
    }
   ],
   "source": [
    "toxic_dataset_tokenized = toxic_dataset.map(tokenize)"
   ]
  },
  {
   "cell_type": "code",
   "execution_count": 10,
   "id": "2448386b-490b-48ba-bc6d-ebc7edb9255c",
   "metadata": {},
   "outputs": [
    {
     "data": {
      "text/html": [
       "<div>\n",
       "<style scoped>\n",
       "    .dataframe tbody tr th:only-of-type {\n",
       "        vertical-align: middle;\n",
       "    }\n",
       "\n",
       "    .dataframe tbody tr th {\n",
       "        vertical-align: top;\n",
       "    }\n",
       "\n",
       "    .dataframe thead th {\n",
       "        text-align: right;\n",
       "    }\n",
       "</style>\n",
       "<table border=\"1\" class=\"dataframe\">\n",
       "  <thead>\n",
       "    <tr style=\"text-align: right;\">\n",
       "      <th></th>\n",
       "      <th>id</th>\n",
       "      <th>comment_text</th>\n",
       "      <th>toxic</th>\n",
       "      <th>severe_toxic</th>\n",
       "      <th>obscene</th>\n",
       "      <th>threat</th>\n",
       "      <th>insult</th>\n",
       "      <th>identity_hate</th>\n",
       "      <th>label</th>\n",
       "      <th>__index_level_0__</th>\n",
       "      <th>input_ids</th>\n",
       "      <th>attention_mask</th>\n",
       "    </tr>\n",
       "  </thead>\n",
       "  <tbody>\n",
       "    <tr>\n",
       "      <th>0</th>\n",
       "      <td>3a537159742790f8</td>\n",
       "      <td>Speedy Deletion of Titans (Webcomic)\\nFor cryi...</td>\n",
       "      <td>1</td>\n",
       "      <td>0</td>\n",
       "      <td>0</td>\n",
       "      <td>0</td>\n",
       "      <td>1</td>\n",
       "      <td>0</td>\n",
       "      <td>1</td>\n",
       "      <td>147318</td>\n",
       "      <td>[101, 26203, 3972, 20624, 2239, 1997, 13785, 1...</td>\n",
       "      <td>[1, 1, 1, 1, 1, 1, 1, 1, 1, 1, 1, 1, 1, 1, 1, ...</td>\n",
       "    </tr>\n",
       "    <tr>\n",
       "      <th>1</th>\n",
       "      <td>3b3ed9cb4c17dd2a</td>\n",
       "      <td>WOOOOOOOOOOOOOOOOOOOOOOOOOOOOOOOOOOOOOOOOOOOO!...</td>\n",
       "      <td>1</td>\n",
       "      <td>0</td>\n",
       "      <td>1</td>\n",
       "      <td>0</td>\n",
       "      <td>0</td>\n",
       "      <td>0</td>\n",
       "      <td>1</td>\n",
       "      <td>22439</td>\n",
       "      <td>[101, 15854, 9541, 9541, 9541, 9541, 9541, 954...</td>\n",
       "      <td>[1, 1, 1, 1, 1, 1, 1, 1, 1, 1, 1, 1, 1, 1, 1, ...</td>\n",
       "    </tr>\n",
       "    <tr>\n",
       "      <th>2</th>\n",
       "      <td>2858c07e8d49f2fc</td>\n",
       "      <td>You blanked articles to warez groups, dumb ass...</td>\n",
       "      <td>1</td>\n",
       "      <td>0</td>\n",
       "      <td>1</td>\n",
       "      <td>0</td>\n",
       "      <td>1</td>\n",
       "      <td>0</td>\n",
       "      <td>1</td>\n",
       "      <td>103221</td>\n",
       "      <td>[101, 2017, 8744, 2098, 4790, 2000, 16283, 248...</td>\n",
       "      <td>[1, 1, 1, 1, 1, 1, 1, 1, 1, 1, 1, 1, 1, 1, 1, ...</td>\n",
       "    </tr>\n",
       "    <tr>\n",
       "      <th>3</th>\n",
       "      <td>30b0705e5c285c30</td>\n",
       "      <td>\" December 2005 (UTC)\\nHellooo, Macheath, who'...</td>\n",
       "      <td>0</td>\n",
       "      <td>0</td>\n",
       "      <td>0</td>\n",
       "      <td>0</td>\n",
       "      <td>0</td>\n",
       "      <td>0</td>\n",
       "      <td>0</td>\n",
       "      <td>18446</td>\n",
       "      <td>[101, 1000, 2285, 2384, 1006, 11396, 1007, 759...</td>\n",
       "      <td>[1, 1, 1, 1, 1, 1, 1, 1, 1, 1, 1, 1, 1, 1, 1, ...</td>\n",
       "    </tr>\n",
       "    <tr>\n",
       "      <th>4</th>\n",
       "      <td>1abcdd3b4de39ae2</td>\n",
       "      <td>\"\\n\\nIt's a profound problem when administrato...</td>\n",
       "      <td>0</td>\n",
       "      <td>0</td>\n",
       "      <td>1</td>\n",
       "      <td>0</td>\n",
       "      <td>0</td>\n",
       "      <td>0</td>\n",
       "      <td>1</td>\n",
       "      <td>10112</td>\n",
       "      <td>[101, 1000, 2009, 1005, 1055, 1037, 13769, 329...</td>\n",
       "      <td>[1, 1, 1, 1, 1, 1, 1, 1, 1, 1, 1, 1, 1, 1, 1, ...</td>\n",
       "    </tr>\n",
       "  </tbody>\n",
       "</table>\n",
       "</div>"
      ],
      "text/plain": [
       "                 id                                       comment_text  toxic  \\\n",
       "0  3a537159742790f8  Speedy Deletion of Titans (Webcomic)\\nFor cryi...      1   \n",
       "1  3b3ed9cb4c17dd2a  WOOOOOOOOOOOOOOOOOOOOOOOOOOOOOOOOOOOOOOOOOOOO!...      1   \n",
       "2  2858c07e8d49f2fc  You blanked articles to warez groups, dumb ass...      1   \n",
       "3  30b0705e5c285c30  \" December 2005 (UTC)\\nHellooo, Macheath, who'...      0   \n",
       "4  1abcdd3b4de39ae2  \"\\n\\nIt's a profound problem when administrato...      0   \n",
       "\n",
       "   severe_toxic  obscene  threat  insult  identity_hate  label  \\\n",
       "0             0        0       0       1              0      1   \n",
       "1             0        1       0       0              0      1   \n",
       "2             0        1       0       1              0      1   \n",
       "3             0        0       0       0              0      0   \n",
       "4             0        1       0       0              0      1   \n",
       "\n",
       "   __index_level_0__                                          input_ids  \\\n",
       "0             147318  [101, 26203, 3972, 20624, 2239, 1997, 13785, 1...   \n",
       "1              22439  [101, 15854, 9541, 9541, 9541, 9541, 9541, 954...   \n",
       "2             103221  [101, 2017, 8744, 2098, 4790, 2000, 16283, 248...   \n",
       "3              18446  [101, 1000, 2285, 2384, 1006, 11396, 1007, 759...   \n",
       "4              10112  [101, 1000, 2009, 1005, 1055, 1037, 13769, 329...   \n",
       "\n",
       "                                      attention_mask  \n",
       "0  [1, 1, 1, 1, 1, 1, 1, 1, 1, 1, 1, 1, 1, 1, 1, ...  \n",
       "1  [1, 1, 1, 1, 1, 1, 1, 1, 1, 1, 1, 1, 1, 1, 1, ...  \n",
       "2  [1, 1, 1, 1, 1, 1, 1, 1, 1, 1, 1, 1, 1, 1, 1, ...  \n",
       "3  [1, 1, 1, 1, 1, 1, 1, 1, 1, 1, 1, 1, 1, 1, 1, ...  \n",
       "4  [1, 1, 1, 1, 1, 1, 1, 1, 1, 1, 1, 1, 1, 1, 1, ...  "
      ]
     },
     "execution_count": 10,
     "metadata": {},
     "output_type": "execute_result"
    }
   ],
   "source": [
    "pd.DataFrame(toxic_dataset_tokenized[\"test\"]).head()"
   ]
  },
  {
   "cell_type": "code",
   "execution_count": 11,
   "id": "cd8923fc-1b27-4aa3-9113-12ff14501f8f",
   "metadata": {},
   "outputs": [],
   "source": [
    "from transformers import DataCollatorWithPadding\n",
    "\n",
    "collator = DataCollatorWithPadding(bert_tokenizer)"
   ]
  },
  {
   "cell_type": "code",
   "execution_count": 12,
   "id": "e6667094-0702-484c-927b-db57dba34bb5",
   "metadata": {},
   "outputs": [],
   "source": [
    "import evaluate\n",
    "\n",
    "metric = evaluate.load(\"accuracy\")\n",
    "def calc_metrics(evaluation):\n",
    "    logits, labels = evaluation\n",
    "    predictions = np.argmax(logits, axis=-1)\n",
    "    return metric.compute(predictions=predictions, references=labels)"
   ]
  },
  {
   "cell_type": "code",
   "execution_count": 13,
   "id": "5c309c93-8cfd-48fc-afdf-bdb919e84e1f",
   "metadata": {},
   "outputs": [],
   "source": [
    "from transformers import TrainingArguments, Trainer\n",
    "import numpy as np"
   ]
  },
  {
   "cell_type": "code",
   "execution_count": 14,
   "id": "07c79356-535c-44e0-821b-176f4f69de0e",
   "metadata": {},
   "outputs": [],
   "source": [
    "batch_size = 64\n",
    "epochs = 3"
   ]
  },
  {
   "cell_type": "code",
   "execution_count": 15,
   "id": "3a4d91b8-b3b7-421e-9dee-a77d0f130f6b",
   "metadata": {},
   "outputs": [],
   "source": [
    "train_args = TrainingArguments(\n",
    "    per_device_train_batch_size=batch_size,\n",
    "    per_device_eval_batch_size=batch_size,\n",
    "    num_train_epochs=epochs,\n",
    "    eval_strategy=\"epoch\",\n",
    "    save_strategy=\"epoch\",\n",
    "    load_best_model_at_end=True,\n",
    "    output_dir=\"./output/models\",\n",
    "    logging_strategy=\"epoch\",\n",
    "    logging_dir=\"./output/log\",\n",
    ")"
   ]
  },
  {
   "cell_type": "code",
   "execution_count": 16,
   "id": "a5179844-c3ee-4be7-88e5-2ee4f27d69ca",
   "metadata": {},
   "outputs": [
    {
     "name": "stderr",
     "output_type": "stream",
     "text": [
      "Some weights of DistilBertForSequenceClassification were not initialized from the model checkpoint at distilbert-base-uncased and are newly initialized: ['classifier.bias', 'classifier.weight', 'pre_classifier.bias', 'pre_classifier.weight']\n",
      "You should probably TRAIN this model on a down-stream task to be able to use it for predictions and inference.\n"
     ]
    }
   ],
   "source": [
    "from transformers import DistilBertTokenizer, DistilBertForSequenceClassification\n",
    "\n",
    "bert_classification_model = DistilBertForSequenceClassification.from_pretrained(\"distilbert-base-uncased\", num_labels=2)\n",
    "bert_classification_model.config.id2label = {0: \"Ok\", 1: \"Toxic\"}\n",
    "bert_classification_model.config.label2id = {\"Ok\": 0, \"Toxic\": 1}"
   ]
  },
  {
   "cell_type": "code",
   "execution_count": 17,
   "id": "72795415-76e6-43ea-8592-a94a74fc4a0c",
   "metadata": {},
   "outputs": [],
   "source": [
    "trainer = Trainer(\n",
    "    model=bert_classification_model,\n",
    "    processing_class=bert_tokenizer,\n",
    "    args=train_args,\n",
    "    train_dataset=toxic_dataset_tokenized[\"train\"],\n",
    "    eval_dataset=toxic_dataset_tokenized[\"test\"],\n",
    "    compute_metrics=calc_metrics,\n",
    "    data_collator=collator,\n",
    ")"
   ]
  },
  {
   "cell_type": "code",
   "execution_count": 18,
   "id": "44c48045-914e-4c11-b68d-a9994978e535",
   "metadata": {},
   "outputs": [
    {
     "data": {
      "text/html": [
       "\n",
       "    <div>\n",
       "      \n",
       "      <progress value='188' max='94' style='width:300px; height:20px; vertical-align: middle;'></progress>\n",
       "      [94/94 05:24]\n",
       "    </div>\n",
       "    "
      ],
      "text/plain": [
       "<IPython.core.display.HTML object>"
      ]
     },
     "metadata": {},
     "output_type": "display_data"
    },
    {
     "data": {
      "text/plain": [
       "{'eval_loss': 0.689630389213562,\n",
       " 'eval_model_preparation_time': 0.001,\n",
       " 'eval_accuracy': 0.5,\n",
       " 'eval_runtime': 15.6863,\n",
       " 'eval_samples_per_second': 382.5,\n",
       " 'eval_steps_per_second': 5.992}"
      ]
     },
     "execution_count": 18,
     "metadata": {},
     "output_type": "execute_result"
    }
   ],
   "source": [
    "trainer.evaluate()"
   ]
  },
  {
   "cell_type": "code",
   "execution_count": 19,
   "id": "1e0931d8-f41f-4bc2-8741-a98add1dbdd2",
   "metadata": {},
   "outputs": [
    {
     "data": {
      "text/html": [
       "\n",
       "    <div>\n",
       "      \n",
       "      <progress value='1125' max='1125' style='width:300px; height:20px; vertical-align: middle;'></progress>\n",
       "      [1125/1125 09:50, Epoch 3/3]\n",
       "    </div>\n",
       "    <table border=\"1\" class=\"dataframe\">\n",
       "  <thead>\n",
       " <tr style=\"text-align: left;\">\n",
       "      <th>Epoch</th>\n",
       "      <th>Training Loss</th>\n",
       "      <th>Validation Loss</th>\n",
       "      <th>Model Preparation Time</th>\n",
       "      <th>Accuracy</th>\n",
       "    </tr>\n",
       "  </thead>\n",
       "  <tbody>\n",
       "    <tr>\n",
       "      <td>1</td>\n",
       "      <td>0.189200</td>\n",
       "      <td>0.156079</td>\n",
       "      <td>0.001000</td>\n",
       "      <td>0.939000</td>\n",
       "    </tr>\n",
       "    <tr>\n",
       "      <td>2</td>\n",
       "      <td>0.094800</td>\n",
       "      <td>0.165607</td>\n",
       "      <td>0.001000</td>\n",
       "      <td>0.944000</td>\n",
       "    </tr>\n",
       "    <tr>\n",
       "      <td>3</td>\n",
       "      <td>0.041400</td>\n",
       "      <td>0.225799</td>\n",
       "      <td>0.001000</td>\n",
       "      <td>0.941667</td>\n",
       "    </tr>\n",
       "  </tbody>\n",
       "</table><p>"
      ],
      "text/plain": [
       "<IPython.core.display.HTML object>"
      ]
     },
     "metadata": {},
     "output_type": "display_data"
    },
    {
     "data": {
      "text/plain": [
       "TrainOutput(global_step=1125, training_loss=0.10846669430202908, metrics={'train_runtime': 590.7599, 'train_samples_per_second': 121.877, 'train_steps_per_second': 1.904, 'total_flos': 8949514011624192.0, 'train_loss': 0.10846669430202908, 'epoch': 3.0})"
      ]
     },
     "execution_count": 19,
     "metadata": {},
     "output_type": "execute_result"
    }
   ],
   "source": [
    "trainer.train()"
   ]
  },
  {
   "cell_type": "code",
   "execution_count": 20,
   "id": "cb5ccf68-c7d8-44eb-b3d2-675d533a6138",
   "metadata": {},
   "outputs": [],
   "source": [
    "trainer.save_model()"
   ]
  },
  {
   "cell_type": "code",
   "execution_count": 21,
   "id": "b265fb74-448c-4a51-8166-21e3211f52c1",
   "metadata": {},
   "outputs": [],
   "source": [
    "api_key = 'hf_foobarbaz'\n",
    "path = 'foo/bar'"
   ]
  },
  {
   "cell_type": "code",
   "execution_count": 22,
   "id": "8bed5bba-128e-4079-a746-4af999ea7d11",
   "metadata": {},
   "outputs": [
    {
     "data": {
      "application/vnd.jupyter.widget-view+json": {
       "model_id": "1f200f67b1eb4ebdad7358eaa3f9559e",
       "version_major": 2,
       "version_minor": 0
      },
      "text/plain": [
       "model.safetensors:   0%|          | 0.00/268M [00:00<?, ?B/s]"
      ]
     },
     "metadata": {},
     "output_type": "display_data"
    },
    {
     "data": {
      "text/plain": [
       "CommitInfo(commit_url='https://huggingface.co/ZhengjunHUO/distilbert-toxicity-classifier/commit/489488aeff2d3447119e8fc98472246506a70213', commit_message='Upload DistilBertForSequenceClassification', commit_description='', oid='489488aeff2d3447119e8fc98472246506a70213', pr_url=None, repo_url=RepoUrl('https://huggingface.co/ZhengjunHUO/distilbert-toxicity-classifier', endpoint='https://huggingface.co', repo_type='model', repo_id='ZhengjunHUO/distilbert-toxicity-classifier'), pr_revision=None, pr_num=None)"
      ]
     },
     "execution_count": 22,
     "metadata": {},
     "output_type": "execute_result"
    }
   ],
   "source": [
    "trainer.model.push_to_hub(\n",
    "    repo_id=path, token=api_key\n",
    ")"
   ]
  },
  {
   "cell_type": "code",
   "execution_count": 23,
   "id": "9992943b-e3e6-4266-bca7-188e41ee62cc",
   "metadata": {},
   "outputs": [
    {
     "name": "stderr",
     "output_type": "stream",
     "text": [
      "No files have been modified since last commit. Skipping to prevent empty commit.\n"
     ]
    },
    {
     "data": {
      "text/plain": [
       "CommitInfo(commit_url='https://huggingface.co/ZhengjunHUO/distilbert-toxicity-classifier/commit/489488aeff2d3447119e8fc98472246506a70213', commit_message='Upload tokenizer', commit_description='', oid='489488aeff2d3447119e8fc98472246506a70213', pr_url=None, repo_url=RepoUrl('https://huggingface.co/ZhengjunHUO/distilbert-toxicity-classifier', endpoint='https://huggingface.co', repo_type='model', repo_id='ZhengjunHUO/distilbert-toxicity-classifier'), pr_revision=None, pr_num=None)"
      ]
     },
     "execution_count": 23,
     "metadata": {},
     "output_type": "execute_result"
    }
   ],
   "source": [
    "trainer.processing_class.push_to_hub(\n",
    "    repo_id=path, token=api_key\n",
    ")"
   ]
  },
  {
   "cell_type": "code",
   "execution_count": 24,
   "id": "86398340-a825-4d26-9585-a16d447b1542",
   "metadata": {},
   "outputs": [
    {
     "name": "stderr",
     "output_type": "stream",
     "text": [
      "Device set to use cuda:0\n"
     ]
    }
   ],
   "source": [
    "from transformers import pipeline\n",
    "\n",
    "t_classifier = pipeline(\n",
    "    'text-classification',\n",
    "    model=trainer.model,\n",
    "    tokenizer=bert_tokenizer,\n",
    "    use_fast=True,\n",
    "    top_k=None\n",
    ")"
   ]
  },
  {
   "cell_type": "code",
   "execution_count": 25,
   "id": "c57b4775-ed63-4c01-81f8-aa42ae97f523",
   "metadata": {},
   "outputs": [
    {
     "data": {
      "text/plain": [
       "[[{'label': 'Toxic', 'score': 0.9503776431083679},\n",
       "  {'label': 'Ok', 'score': 0.04962233826518059}]]"
      ]
     },
     "execution_count": 25,
     "metadata": {},
     "output_type": "execute_result"
    }
   ],
   "source": [
    "t_classifier('whoever wrote this is a waste of space')"
   ]
  },
  {
   "cell_type": "code",
   "execution_count": 26,
   "id": "38e0f9e1-02d8-4135-b69a-ec2d853c1bd4",
   "metadata": {},
   "outputs": [
    {
     "data": {
      "text/plain": [
       "[[{'label': 'Toxic', 'score': 0.9975517392158508},\n",
       "  {'label': 'Ok', 'score': 0.002448315266519785}]]"
      ]
     },
     "execution_count": 26,
     "metadata": {},
     "output_type": "execute_result"
    }
   ],
   "source": [
    "t_classifier('Such an Idiot person')"
   ]
  },
  {
   "cell_type": "code",
   "execution_count": 27,
   "id": "2e570aee-7b44-4a90-9cfb-595aa3c4da52",
   "metadata": {},
   "outputs": [
    {
     "data": {
      "text/plain": [
       "[[{'label': 'Ok', 'score': 0.6113644242286682},\n",
       "  {'label': 'Toxic', 'score': 0.3886356055736542}]]"
      ]
     },
     "execution_count": 27,
     "metadata": {},
     "output_type": "execute_result"
    }
   ],
   "source": [
    "t_classifier('You look smart')"
   ]
  },
  {
   "cell_type": "code",
   "execution_count": null,
   "id": "53c3fe41-fd09-438d-be6c-51e7ab2bd888",
   "metadata": {},
   "outputs": [],
   "source": [
    "# from transformers import pipeline\n",
    "\n",
    "# clf = pipeline(\n",
    "#   'text-classification',\n",
    "#   \"ZhengjunHUO/distilbert-toxicity-classifier\", \n",
    "#   use_fast=True, \n",
    "#   #return_all_scores=True\n",
    "# )"
   ]
  }
 ],
 "metadata": {
  "kernelspec": {
   "display_name": "Python 3 (ipykernel)",
   "language": "python",
   "name": "python3"
  },
  "language_info": {
   "codemirror_mode": {
    "name": "ipython",
    "version": 3
   },
   "file_extension": ".py",
   "mimetype": "text/x-python",
   "name": "python",
   "nbconvert_exporter": "python",
   "pygments_lexer": "ipython3",
   "version": "3.9.21"
  }
 },
 "nbformat": 4,
 "nbformat_minor": 5
}
