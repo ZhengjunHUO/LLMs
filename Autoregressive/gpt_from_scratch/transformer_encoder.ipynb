{
 "cells": [
  {
   "cell_type": "code",
   "execution_count": 12,
   "id": "198fafb9-477a-4603-a10f-6dcabcf9d009",
   "metadata": {},
   "outputs": [
    {
     "name": "stdout",
     "output_type": "stream",
     "text": [
      "Using cpu device\n"
     ]
    }
   ],
   "source": [
    "import torch\n",
    "\n",
    "device = torch.accelerator.current_accelerator().type if torch.accelerator.is_available() else \"cpu\"\n",
    "print(f\"Using {device} device\")"
   ]
  },
  {
   "cell_type": "code",
   "execution_count": 25,
   "id": "79e8dd79-2828-4b61-a2da-cadd5d028279",
   "metadata": {},
   "outputs": [],
   "source": [
    "def prepare_vocab(path_to_data):\n",
    "    with open(path_to_data, mode='r', encoding='utf-8') as f:\n",
    "        content = f.read()\n",
    "\n",
    "    return content, sorted(list(set(content)))"
   ]
  },
  {
   "cell_type": "code",
   "execution_count": 26,
   "id": "0347dd08-59e9-452f-8673-5885434726fc",
   "metadata": {},
   "outputs": [
    {
     "name": "stdout",
     "output_type": "stream",
     "text": [
      "Read in:  1115394\n",
      "['\\n', ' ', '!', '$', '&', \"'\", ',', '-', '.', '3', ':', ';', '?', 'A', 'B', 'C', 'D', 'E', 'F', 'G', 'H', 'I', 'J', 'K', 'L', 'M', 'N', 'O', 'P', 'Q', 'R', 'S', 'T', 'U', 'V', 'W', 'X', 'Y', 'Z', 'a', 'b', 'c', 'd', 'e', 'f', 'g', 'h', 'i', 'j', 'k', 'l', 'm', 'n', 'o', 'p', 'q', 'r', 's', 't', 'u', 'v', 'w', 'x', 'y', 'z'] 65\n"
     ]
    }
   ],
   "source": [
    "content, vocab = prepare_vocab('./TinyS.txt')\n",
    "vocab_size = len(vocab)\n",
    "print(\"Read in: \", len(content))\n",
    "print(vocab, vocab_size)"
   ]
  },
  {
   "cell_type": "code",
   "execution_count": 29,
   "id": "db92a771-d88e-42a6-b0da-c2db3c4672cd",
   "metadata": {},
   "outputs": [],
   "source": [
    "def prepare_data(content, vocab, ratio_train):\n",
    "    dict_ctoi = { char:idx for idx, char in enumerate(vocab) }\n",
    "    dict_itoc = { idx:char for idx, char in enumerate(vocab) }\n",
    "    fn_encode = lambda s: [dict_ctoi[c] for c in s]\n",
    "    fn_decode = lambda s: [dict_itoc[i] for i in s]\n",
    "\n",
    "    data = torch.tensor(fn_encode(content), dtype=torch.long)\n",
    "    n = int(len(data) * ratio_train)\n",
    "    return data[:n], data[n:], fn_decode"
   ]
  },
  {
   "cell_type": "code",
   "execution_count": 30,
   "id": "d2340259-d958-46ab-9d92-bbbbe6ddc2d6",
   "metadata": {},
   "outputs": [],
   "source": [
    "train_data, eval_data, decode = prepare_data(content, vocab, 0.8)"
   ]
  },
  {
   "cell_type": "code",
   "execution_count": 53,
   "id": "b45d688a-8702-4d29-80f6-5c561a7b7c9a",
   "metadata": {},
   "outputs": [],
   "source": [
    "batch_size = 16\n",
    "context_size = 64  # context length for prediction\n",
    "n_eval = 100       # evaluate n_eval times then calculate the mean\n",
    "n_feature = 64\n",
    "dropout_p = 0.0"
   ]
  },
  {
   "cell_type": "code",
   "execution_count": 50,
   "id": "3c8c5ade-860e-4e4b-afdb-efdf92952080",
   "metadata": {},
   "outputs": [],
   "source": [
    "def collate_data(category):\n",
    "    data = train_data if category == 'train' else eval_data\n",
    "    batch_start_idx = torch.randint(len(data) - context_size - 1, (batch_size,))\n",
    "    x = torch.stack([data[idx:idx+context_size] for idx in batch_start_idx])\n",
    "    y = torch.stack([data[idx+1:idx+context_size+1] for idx in batch_start_idx])\n",
    "    x, y = x.to(device), y.to(device)\n",
    "    return x, y"
   ]
  },
  {
   "cell_type": "code",
   "execution_count": 55,
   "id": "9448f734-6bf2-4646-9d33-57f69e4f313b",
   "metadata": {},
   "outputs": [
    {
     "data": {
      "text/plain": [
       "torch.Size([16, 64])"
      ]
     },
     "execution_count": 55,
     "metadata": {},
     "output_type": "execute_result"
    }
   ],
   "source": [
    "x, y = collate_data('train')\n",
    "x.size()"
   ]
  },
  {
   "cell_type": "code",
   "execution_count": 52,
   "id": "c57863de-5275-4ea4-a7ca-66ecd03f058d",
   "metadata": {},
   "outputs": [],
   "source": [
    "@torch.no_grad()\n",
    "def calc_loss():\n",
    "    rslt = {}\n",
    "    model.eval()\n",
    "    for c in ['train', 'eval']:\n",
    "        losses = torch.zeros(n_eval)\n",
    "        for i in range(n_eval):\n",
    "            x, y = collate_data(c)\n",
    "            _, loss = model(x, y)\n",
    "            losses[i] = loss.item()\n",
    "        rslt[c] = losses.mean()\n",
    "    model.train()\n",
    "    return rslt"
   ]
  },
  {
   "cell_type": "code",
   "execution_count": null,
   "id": "ba0130ee-ac7a-4dba-91fb-1872419ab4fd",
   "metadata": {},
   "outputs": [],
   "source": [
    "class SingleHead(torch.nn.Module):\n",
    "    def __init__(self, size):\n",
    "        super.__init__()\n",
    "        self.query = torch.nn.Linear(n_feature, size, bias=False)\n",
    "        self.key = torch.nn.Linear(n_feature, size, bias=False)\n",
    "        self.value = torch.nn.Linear(n_feature, size, bias=False)\n",
    "        self.register_buffer('tril', torch.tril(context_size, context_size))\n",
    "        self.dropout = torch.nn.Dropout(dropout_p)\n",
    "\n",
    "    def forward(self, x):\n",
    "        batch, ctx, features = x.shape\n",
    "        "
   ]
  }
 ],
 "metadata": {
  "kernelspec": {
   "display_name": "Python 3 (ipykernel)",
   "language": "python",
   "name": "python3"
  },
  "language_info": {
   "codemirror_mode": {
    "name": "ipython",
    "version": 3
   },
   "file_extension": ".py",
   "mimetype": "text/x-python",
   "name": "python",
   "nbconvert_exporter": "python",
   "pygments_lexer": "ipython3",
   "version": "3.9.21"
  }
 },
 "nbformat": 4,
 "nbformat_minor": 5
}
