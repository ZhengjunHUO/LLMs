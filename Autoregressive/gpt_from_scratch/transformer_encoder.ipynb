{
 "cells": [
  {
   "cell_type": "code",
   "execution_count": 1,
   "id": "198fafb9-477a-4603-a10f-6dcabcf9d009",
   "metadata": {},
   "outputs": [
    {
     "name": "stdout",
     "output_type": "stream",
     "text": [
      "Using cpu device\n"
     ]
    }
   ],
   "source": [
    "import torch\n",
    "\n",
    "device = torch.accelerator.current_accelerator().type if torch.accelerator.is_available() else \"cpu\"\n",
    "print(f\"Using {device} device\")"
   ]
  },
  {
   "cell_type": "code",
   "execution_count": 2,
   "id": "79e8dd79-2828-4b61-a2da-cadd5d028279",
   "metadata": {},
   "outputs": [],
   "source": [
    "def prepare_vocab(path_to_data):\n",
    "    with open(path_to_data, mode='r', encoding='utf-8') as f:\n",
    "        content = f.read()\n",
    "\n",
    "    return content, sorted(list(set(content)))"
   ]
  },
  {
   "cell_type": "code",
   "execution_count": 3,
   "id": "0347dd08-59e9-452f-8673-5885434726fc",
   "metadata": {},
   "outputs": [
    {
     "name": "stdout",
     "output_type": "stream",
     "text": [
      "Read in:  1115394\n",
      "['\\n', ' ', '!', '$', '&', \"'\", ',', '-', '.', '3', ':', ';', '?', 'A', 'B', 'C', 'D', 'E', 'F', 'G', 'H', 'I', 'J', 'K', 'L', 'M', 'N', 'O', 'P', 'Q', 'R', 'S', 'T', 'U', 'V', 'W', 'X', 'Y', 'Z', 'a', 'b', 'c', 'd', 'e', 'f', 'g', 'h', 'i', 'j', 'k', 'l', 'm', 'n', 'o', 'p', 'q', 'r', 's', 't', 'u', 'v', 'w', 'x', 'y', 'z'] 65\n"
     ]
    }
   ],
   "source": [
    "content, vocab = prepare_vocab('./TinyS.txt')\n",
    "vocab_size = len(vocab)\n",
    "print(\"Read in: \", len(content))\n",
    "print(vocab, vocab_size)"
   ]
  },
  {
   "cell_type": "code",
   "execution_count": 4,
   "id": "db92a771-d88e-42a6-b0da-c2db3c4672cd",
   "metadata": {},
   "outputs": [],
   "source": [
    "def prepare_data(content, vocab, ratio_train):\n",
    "    dict_ctoi = { char:idx for idx, char in enumerate(vocab) }\n",
    "    dict_itoc = { idx:char for idx, char in enumerate(vocab) }\n",
    "    fn_encode = lambda s: [dict_ctoi[c] for c in s]\n",
    "    fn_decode = lambda s: [dict_itoc[i] for i in s]\n",
    "\n",
    "    data = torch.tensor(fn_encode(content), dtype=torch.long)\n",
    "    n = int(len(data) * ratio_train)\n",
    "    return data[:n], data[n:], fn_decode"
   ]
  },
  {
   "cell_type": "code",
   "execution_count": 5,
   "id": "d2340259-d958-46ab-9d92-bbbbe6ddc2d6",
   "metadata": {},
   "outputs": [],
   "source": [
    "train_data, eval_data, decode = prepare_data(content, vocab, 0.8)"
   ]
  },
  {
   "cell_type": "code",
   "execution_count": 6,
   "id": "3c8c5ade-860e-4e4b-afdb-efdf92952080",
   "metadata": {},
   "outputs": [],
   "source": [
    "# need train_data, eval_data\n",
    "def collate_data(category):\n",
    "    data = train_data if category == 'train' else eval_data\n",
    "    batch_start_idx = torch.randint(len(data) - context_size - 1, (batch_size,))\n",
    "    x = torch.stack([data[idx:idx+context_size] for idx in batch_start_idx])\n",
    "    y = torch.stack([data[idx+1:idx+context_size+1] for idx in batch_start_idx])\n",
    "    x, y = x.to(device), y.to(device)\n",
    "    return x, y"
   ]
  },
  {
   "cell_type": "code",
   "execution_count": 7,
   "id": "c57863de-5275-4ea4-a7ca-66ecd03f058d",
   "metadata": {},
   "outputs": [],
   "source": [
    "@torch.no_grad()\n",
    "def calc_loss():\n",
    "    rslt = {}\n",
    "    model.eval()\n",
    "    for c in ['train', 'eval']:\n",
    "        losses = torch.zeros(n_eval)\n",
    "        for i in range(n_eval):\n",
    "            x, y = collate_data(c)\n",
    "            _, loss = model(x, y)\n",
    "            losses[i] = loss.item()\n",
    "        rslt[c] = losses.mean()\n",
    "    model.train()\n",
    "    return rslt"
   ]
  },
  {
   "cell_type": "code",
   "execution_count": 8,
   "id": "ba0130ee-ac7a-4dba-91fb-1872419ab4fd",
   "metadata": {},
   "outputs": [],
   "source": [
    "class MaskedSingleHeadAttention(torch.nn.Module):\n",
    "    def __init__(self, head_size, context_size, n_feature, dropout_p):\n",
    "        super.__init__()\n",
    "        self.query = torch.nn.Linear(n_feature, head_size, bias=False)\n",
    "        self.key = torch.nn.Linear(n_feature, head_size, bias=False)\n",
    "        self.value = torch.nn.Linear(n_feature, head_size, bias=False)\n",
    "        self.register_buffer('tril', torch.tril(context_size, context_size))\n",
    "        self.dropout = torch.nn.Dropout(dropout_p)\n",
    "\n",
    "    def forward(self, x):\n",
    "        # x: (b, c, f)\n",
    "        batch, ctx, features = x.shape\n",
    "        # q or k: (b, c, f) @ (f, h) = (b, c, h) where h(head_size) = f / n_head\n",
    "        q = self.query(x)\n",
    "        k = self.key(x)\n",
    "        # calc attention score, w: (b, c, c)\n",
    "        w = q @ k.transpose(-2, -1) * features**-0.5\n",
    "        w = w.masked_fill(self.tril[:ctx, :ctx] == 0, float('-inf'))\n",
    "        w = torch.nn.functional.softmax(w, dim=-1)\n",
    "        w = self.dropout(w)\n",
    "        # cal weighted value, v: (b, c, h)\n",
    "        v = self.value(x)\n",
    "        # (b, c, c) @ (b, c, h) = (b, c ,h)\n",
    "        rslt = w @ v\n",
    "        return rslt"
   ]
  },
  {
   "cell_type": "code",
   "execution_count": 9,
   "id": "d35a3200-8596-4cb7-be16-d0e7b3b9bab7",
   "metadata": {},
   "outputs": [],
   "source": [
    "class MaskedMultiHeadAttention(torch.nn.Module):\n",
    "    def __init__(self, n_head, context_size, n_feature, dropout_p):\n",
    "        super.__init__()\n",
    "        head_size = n_feature // n_head\n",
    "        self.heads = torch.nn.ModuleList([MaskedSingleHeadAttention(head_size, context_size, n_feature, dropout_p)])\n",
    "        self.projection = torch.nn.Linear(n_feature, n_feature)\n",
    "        self.dropout = torch.nn.Dropout(dropout_p)\n",
    "\n",
    "    def forward(self, x):\n",
    "        # (b, c ,h) --cat--> (b, c, f)\n",
    "        rslt = torch.cat([head(x) for head in self.heads], dim=-1)\n",
    "        return self.dropout(self.projection(rslt))"
   ]
  },
  {
   "cell_type": "code",
   "execution_count": 10,
   "id": "e490c456-a305-4475-9b3e-19c7eaee06ec",
   "metadata": {},
   "outputs": [],
   "source": [
    "class FeedFoward(torch.nn.Module):\n",
    "    def __init__(self, n_feature, dropout_p):\n",
    "        super().__init__()\n",
    "        self.seq = torch.nn.Sequential(\n",
    "            torch.nn.Linear(n_feature, n_feature * 4),\n",
    "            torch.nn.ReLU(),\n",
    "            torch.nn.Linear(n_feature * 4, n_feature),\n",
    "            torch.nn.Dropout(dropout_p),\n",
    "        )\n",
    "\n",
    "    def forward(self, x):\n",
    "        return self.seq(x)"
   ]
  },
  {
   "cell_type": "code",
   "execution_count": 11,
   "id": "ec645c1f-54df-4fe5-a6c9-afd31d368e1e",
   "metadata": {},
   "outputs": [],
   "source": [
    "class TransformerUnit(torch.nn.Module):\n",
    "    def __init__(self, n_head, context_size, n_feature, dropout_p):\n",
    "        super().__init__()\n",
    "        self.mha = MaskedMultiHeadAttention(n_head, context_size, n_feature, dropout_p)\n",
    "        self.ff = FeedFoward(n_feature, dropout_p)\n",
    "        self.mha_ln = torch.nn.LayerNorm(n_feature)\n",
    "        self.ff_ln = torch.nn.LayerNorm(n_feature)\n",
    "\n",
    "    def forward(self, x):\n",
    "        x += self.mha(self.mha_ln(x))\n",
    "        x += self.ff(self.ff_ln(x))\n",
    "        return x"
   ]
  },
  {
   "cell_type": "code",
   "execution_count": 12,
   "id": "b45d688a-8702-4d29-80f6-5c561a7b7c9a",
   "metadata": {},
   "outputs": [],
   "source": [
    "batch_size = 16\n",
    "context_size = 64  # context length for prediction\n",
    "n_eval = 100       # evaluate n_eval times then calculate the mean\n",
    "n_feature = 64\n",
    "n_head = 4\n",
    "dropout_p = 0.0"
   ]
  },
  {
   "cell_type": "code",
   "execution_count": null,
   "id": "ba3db2b7-82cf-44fe-b47a-91774bd71887",
   "metadata": {},
   "outputs": [],
   "source": []
  }
 ],
 "metadata": {
  "kernelspec": {
   "display_name": "Python 3 (ipykernel)",
   "language": "python",
   "name": "python3"
  },
  "language_info": {
   "codemirror_mode": {
    "name": "ipython",
    "version": 3
   },
   "file_extension": ".py",
   "mimetype": "text/x-python",
   "name": "python",
   "nbconvert_exporter": "python",
   "pygments_lexer": "ipython3",
   "version": "3.9.21"
  }
 },
 "nbformat": 4,
 "nbformat_minor": 5
}
