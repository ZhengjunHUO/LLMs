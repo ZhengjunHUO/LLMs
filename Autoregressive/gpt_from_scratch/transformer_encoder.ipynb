{
 "cells": [
  {
   "cell_type": "code",
   "execution_count": 1,
   "id": "198fafb9-477a-4603-a10f-6dcabcf9d009",
   "metadata": {},
   "outputs": [
    {
     "name": "stderr",
     "output_type": "stream",
     "text": [
      "/opt/py3llm/lib/python3.9/site-packages/torch/_subclasses/functional_tensor.py:276: UserWarning: Failed to initialize NumPy: No module named 'numpy' (Triggered internally at /Users/runner/work/pytorch/pytorch/pytorch/torch/csrc/utils/tensor_numpy.cpp:81.)\n",
      "  cpu = _conversion_method_template(device=torch.device(\"cpu\"))\n"
     ]
    },
    {
     "name": "stdout",
     "output_type": "stream",
     "text": [
      "Using mps device\n"
     ]
    }
   ],
   "source": [
    "import torch\n",
    "\n",
    "device = torch.accelerator.current_accelerator().type if torch.accelerator.is_available() else \"cpu\"\n",
    "print(f\"Using {device} device\")"
   ]
  },
  {
   "cell_type": "code",
   "execution_count": 2,
   "id": "da94793c-4e49-4233-a76c-48737fd64cba",
   "metadata": {},
   "outputs": [],
   "source": [
    "class DataCollator:\n",
    "    def __init__(self, path_to_data, ratio_train):\n",
    "        with open(path_to_data, mode='r', encoding='utf-8') as f:\n",
    "            content = f.read()\n",
    "\n",
    "        self.content = content\n",
    "        self.vocab = sorted(list(set(content)))\n",
    "\n",
    "        dict_ctoi = { char:idx for idx, char in enumerate(self.vocab) }\n",
    "        dict_itoc = { idx:char for idx, char in enumerate(self.vocab) }\n",
    "        self.fn_encode = lambda s: [dict_ctoi[c] for c in s]\n",
    "        self.fn_decode = lambda s: [dict_itoc[i] for i in s]\n",
    "\n",
    "        data = torch.tensor(self.fn_encode(content), dtype=torch.long)\n",
    "        n = int(len(data) * ratio_train)\n",
    "        self.train_data = data[:n]\n",
    "        self.eval_data = data[n:]\n",
    "\n",
    "    def collate_data(self, category, batch_size, context_size):\n",
    "        data = self.train_data if category == 'train' else self.eval_data\n",
    "        batch_start_idx = torch.randint(len(data) - context_size - 1, (batch_size,))\n",
    "        x = torch.stack([data[idx:idx+context_size] for idx in batch_start_idx])\n",
    "        y = torch.stack([data[idx+1:idx+context_size+1] for idx in batch_start_idx])\n",
    "        x, y = x.to(device), y.to(device)\n",
    "        return x, y"
   ]
  },
  {
   "cell_type": "code",
   "execution_count": 3,
   "id": "7e33e3fc-f010-4041-a739-5a7e313ee526",
   "metadata": {},
   "outputs": [
    {
     "name": "stdout",
     "output_type": "stream",
     "text": [
      "Read in:  1115394\n",
      "['\\n', ' ', '!', '$', '&', \"'\", ',', '-', '.', '3', ':', ';', '?', 'A', 'B', 'C', 'D', 'E', 'F', 'G', 'H', 'I', 'J', 'K', 'L', 'M', 'N', 'O', 'P', 'Q', 'R', 'S', 'T', 'U', 'V', 'W', 'X', 'Y', 'Z', 'a', 'b', 'c', 'd', 'e', 'f', 'g', 'h', 'i', 'j', 'k', 'l', 'm', 'n', 'o', 'p', 'q', 'r', 's', 't', 'u', 'v', 'w', 'x', 'y', 'z'] 65\n"
     ]
    }
   ],
   "source": [
    "dc = DataCollator('./TinyS.txt', 0.8)\n",
    "\n",
    "print(\"Read in: \", len(dc.content))\n",
    "print(dc.vocab, len(dc.vocab))"
   ]
  },
  {
   "cell_type": "code",
   "execution_count": 4,
   "id": "ba0130ee-ac7a-4dba-91fb-1872419ab4fd",
   "metadata": {},
   "outputs": [],
   "source": [
    "class MaskedSingleHeadAttention(torch.nn.Module):\n",
    "    def __init__(self, head_size, context_size, n_feature, dropout_p):\n",
    "        super().__init__()\n",
    "        self.query = torch.nn.Linear(n_feature, head_size, bias=False)\n",
    "        self.key = torch.nn.Linear(n_feature, head_size, bias=False)\n",
    "        self.value = torch.nn.Linear(n_feature, head_size, bias=False)\n",
    "        self.register_buffer('tril', torch.tril(torch.ones(context_size, context_size)))\n",
    "        self.dropout = torch.nn.Dropout(dropout_p)\n",
    "\n",
    "    def forward(self, x):\n",
    "        # x: (b, c, f)\n",
    "        batch, ctx, features = x.shape\n",
    "        # q or k: (b, c, f) @ (f, h) = (b, c, h) where h(head_size) = f / n_head\n",
    "        q = self.query(x)\n",
    "        k = self.key(x)\n",
    "        # calc attention score, w: (b, c, c)\n",
    "        w = q @ k.transpose(-2, -1) * features**-0.5\n",
    "        w = w.masked_fill(self.tril[:ctx, :ctx] == 0, float('-inf'))\n",
    "        w = torch.nn.functional.softmax(w, dim=-1)\n",
    "        w = self.dropout(w)\n",
    "        # cal weighted value, v: (b, c, h)\n",
    "        v = self.value(x)\n",
    "        # (b, c, c) @ (b, c, h) = (b, c ,h)\n",
    "        rslt = w @ v\n",
    "        return rslt\n",
    "\n",
    "class MaskedMultiHeadAttention(torch.nn.Module):\n",
    "    def __init__(self, n_head, context_size, n_feature, dropout_p):\n",
    "        super().__init__()\n",
    "        head_size = n_feature // n_head\n",
    "        self.heads = torch.nn.ModuleList([MaskedSingleHeadAttention(head_size, context_size, n_feature, dropout_p) for _ in range(n_head)])\n",
    "        self.projection = torch.nn.Linear(n_feature, n_feature)\n",
    "        self.dropout = torch.nn.Dropout(dropout_p)\n",
    "\n",
    "    def forward(self, x):\n",
    "        # (b, c ,h) --cat--> (b, c, f)\n",
    "        rslt = torch.cat([head(x) for head in self.heads], dim=-1)\n",
    "        rslt = self.dropout(self.projection(rslt))\n",
    "        return rslt\n",
    "\n",
    "class FeedFoward(torch.nn.Module):\n",
    "    def __init__(self, n_feature, dropout_p):\n",
    "        super().__init__()\n",
    "        self.seq = torch.nn.Sequential(\n",
    "            torch.nn.Linear(n_feature, n_feature * 4),\n",
    "            torch.nn.ReLU(),\n",
    "            torch.nn.Linear(n_feature * 4, n_feature),\n",
    "            torch.nn.Dropout(dropout_p),\n",
    "        )\n",
    "\n",
    "    def forward(self, x):\n",
    "        return self.seq(x)\n",
    "\n",
    "class TransformerUnit(torch.nn.Module):\n",
    "    def __init__(self, n_head, context_size, n_feature, dropout_p):\n",
    "        super().__init__()\n",
    "        self.mha = MaskedMultiHeadAttention(n_head, context_size, n_feature, dropout_p)\n",
    "        self.ff = FeedFoward(n_feature, dropout_p)\n",
    "        self.mha_ln = torch.nn.LayerNorm(n_feature)\n",
    "        self.ff_ln = torch.nn.LayerNorm(n_feature)\n",
    "\n",
    "    def forward(self, x):\n",
    "        x = x + self.mha(self.mha_ln(x))\n",
    "        x = x + self.ff(self.ff_ln(x))\n",
    "        return x\n",
    "\n",
    "class NaiveLangModel(torch.nn.Module):\n",
    "    def __init__(self, vocab_size, n_layer, n_head, context_size, n_feature, dropout_p):\n",
    "        super().__init__()\n",
    "        self.token_embed = torch.nn.Embedding(vocab_size, n_feature)\n",
    "        self.position_embed = torch.nn.Embedding(context_size, n_feature)\n",
    "        self.units = torch.nn.Sequential(*[TransformerUnit(n_head, context_size, n_feature, dropout_p) for _ in range(n_layer)])\n",
    "        self.ln = torch.nn.LayerNorm(n_feature)\n",
    "        self.pred_head = torch.nn.Linear(n_feature, vocab_size)\n",
    "        self.context_size = context_size\n",
    "\n",
    "    def forward(self, inputs, labels=None):\n",
    "        batch, ctx = inputs.shape\n",
    "        # t_embed: (b, c, f); p_embed: (c,f)\n",
    "        t_embed = self.token_embed(inputs)\n",
    "        p_embed = self.position_embed(torch.arange(ctx, device=device))\n",
    "        # x: (b, c, f)\n",
    "        x = t_embed + p_embed\n",
    "        x = self.units(x)\n",
    "        x = self.ln(x)\n",
    "        # logits: (b, c, v) \n",
    "        logits = self.pred_head(x)\n",
    "\n",
    "        if labels is None:\n",
    "            return logits, None\n",
    "\n",
    "        batch, ctx, features = logits.shape\n",
    "        predicts = logits.view(batch*ctx, features)\n",
    "        targets = labels.view(batch*ctx)\n",
    "        return logits, torch.nn.functional.cross_entropy(predicts, targets)\n",
    "\n",
    "    def generate(self, inputs, max_gen):\n",
    "        for _ in range(max_gen):\n",
    "            inputs_last_window = inputs[:, -self.context_size:]\n",
    "            logits, loss = self(inputs_last_window)\n",
    "            logits = logits[:, -1, :]\n",
    "            pred_next = torch.multinomial(torch.nn.functional.softmax(logits, dim=1), num_samples=1)\n",
    "            inputs = torch.cat((inputs, pred_next), dim=1)\n",
    "        return inputs"
   ]
  },
  {
   "cell_type": "code",
   "execution_count": 5,
   "id": "961fdd3f-8e0d-4501-8a18-45a9e4e28915",
   "metadata": {},
   "outputs": [
    {
     "name": "stdout",
     "output_type": "stream",
     "text": [
      "0.209729 M parameters\n"
     ]
    }
   ],
   "source": [
    "# n_layer = 4\n",
    "# n_head = 4\n",
    "# n_feature = 64\n",
    "# dropout_p = 0.0\n",
    "# context_size=32 # context length for prediction\n",
    "\n",
    "model = NaiveLangModel(vocab_size=len(dc.vocab), n_layer=4, n_head=4, context_size=32, n_feature=64, dropout_p=0.0)\n",
    "model = model.to(device)\n",
    "print(sum(p.numel() for p in model.parameters())/1e6, 'M parameters')"
   ]
  },
  {
   "cell_type": "code",
   "execution_count": 6,
   "id": "c20729c9-0b73-4250-8fa2-29828f2ac292",
   "metadata": {},
   "outputs": [],
   "source": [
    "def train_model(learning_rate, batch_size, steps, eval_interval, n_eval):\n",
    "    @torch.no_grad()\n",
    "    def calc_loss(n_eval, batch_size):\n",
    "        rslt = {}\n",
    "        model.eval()\n",
    "        for c in ['train', 'eval']:\n",
    "            losses = torch.zeros(n_eval)\n",
    "            for i in range(n_eval):\n",
    "                x, y = dc.collate_data(c, batch_size, model.context_size)\n",
    "                _, loss = model(x, y)\n",
    "                losses[i] = loss.item()\n",
    "            rslt[c] = losses.mean()\n",
    "        model.train()\n",
    "        return rslt\n",
    "\n",
    "    optimizer = torch.optim.AdamW(model.parameters(), lr=1e-3)\n",
    "\n",
    "    for step in range(steps):\n",
    "        if step % eval_interval == 0 or step == steps - 1:\n",
    "            losses = calc_loss(n_eval, batch_size)\n",
    "            print(f\"[step {step}] train loss {losses['train']:.4f}, eval loss {losses['eval']:.4f}\")\n",
    "    \n",
    "        x, y = dc.collate_data('train', batch_size, model.context_size)\n",
    "        _, loss = model(x, y)\n",
    "        optimizer.zero_grad(set_to_none=True)\n",
    "        loss.backward()\n",
    "        optimizer.step()"
   ]
  },
  {
   "cell_type": "code",
   "execution_count": null,
   "id": "ae67b13a-cd48-4cf0-9cb1-6c409b969a2b",
   "metadata": {},
   "outputs": [],
   "source": [
    "# steps = 5000\n",
    "# eval_interval = 100 # evaluate every N steps\n",
    "# batch_size = 16\n",
    "# n_eval = 100       # evaluate n_eval times then calculate the mean\n",
    "# lr = 1e-3\n",
    "train_model(learning_rate=1e-3, batch_size=16, steps=5000, eval_interval=100, n_eval=100)"
   ]
  },
  {
   "cell_type": "code",
   "execution_count": null,
   "id": "ba3db2b7-82cf-44fe-b47a-91774bd71887",
   "metadata": {},
   "outputs": [],
   "source": [
    "prompt = torch.zeros((1, 1), dtype=torch.long, device=device)\n",
    "print(dc.fn_decode(model.generate(prompt, max_gen=1000)[0].tolist()))"
   ]
  },
  {
   "cell_type": "code",
   "execution_count": null,
   "id": "b45d688a-8702-4d29-80f6-5c561a7b7c9a",
   "metadata": {},
   "outputs": [],
   "source": []
  }
 ],
 "metadata": {
  "kernelspec": {
   "display_name": "Python 3 (ipykernel)",
   "language": "python",
   "name": "python3"
  },
  "language_info": {
   "codemirror_mode": {
    "name": "ipython",
    "version": 3
   },
   "file_extension": ".py",
   "mimetype": "text/x-python",
   "name": "python",
   "nbconvert_exporter": "python",
   "pygments_lexer": "ipython3",
   "version": "3.9.19"
  }
 },
 "nbformat": 4,
 "nbformat_minor": 5
}
